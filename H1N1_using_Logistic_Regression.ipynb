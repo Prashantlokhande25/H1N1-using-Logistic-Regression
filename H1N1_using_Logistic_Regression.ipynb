{
  "cells": [
    {
      "cell_type": "code",
      "execution_count": 28,
      "metadata": {
        "colab": {
          "base_uri": "https://localhost:8080/"
        },
        "id": "FUQhQSJMCFrB",
        "outputId": "9c1a8edb-c442-43c8-f39f-d4da3ba6003c"
      },
      "outputs": [
        {
          "output_type": "stream",
          "name": "stdout",
          "text": [
            "Looking in indexes: https://pypi.org/simple, https://us-python.pkg.dev/colab-wheels/public/simple/\n",
            "Requirement already satisfied: scikit-multilearn in /usr/local/lib/python3.7/dist-packages (0.2.0)\n"
          ]
        }
      ],
      "source": [
        "!pip install scikit-multilearn"
      ]
    },
    {
      "cell_type": "code",
      "execution_count": 29,
      "metadata": {
        "id": "EQaTOZQmCFrK"
      },
      "outputs": [],
      "source": [
        "#Importing the required libraries"
      ]
    },
    {
      "cell_type": "code",
      "execution_count": 30,
      "metadata": {
        "id": "EJHJmlcTCFrM"
      },
      "outputs": [],
      "source": [
        "import pandas as pd\n",
        "import numpy as np\n",
        "import seaborn as sns\n",
        "import matplotlib.pyplot as plt\n",
        "%matplotlib inline\n",
        "import warnings\n",
        "warnings.filterwarnings('ignore')\n"
      ]
    },
    {
      "cell_type": "code",
      "execution_count": 31,
      "metadata": {
        "id": "gU1MEQxkCFrN"
      },
      "outputs": [],
      "source": [
        "from sklearn.preprocessing import MinMaxScaler , LabelEncoder\n",
        "from sklearn.model_selection import train_test_split , GridSearchCV , cross_val_score"
      ]
    },
    {
      "cell_type": "code",
      "execution_count": 32,
      "metadata": {
        "id": "ytWP__qxCFrO"
      },
      "outputs": [],
      "source": [
        "from sklearn.preprocessing import LabelEncoder\n",
        "from sklearn.model_selection import train_test_split\n",
        "from sklearn.linear_model import LogisticRegression \n",
        "from sklearn.preprocessing import StandardScaler\n",
        "from sklearn.metrics import confusion_matrix"
      ]
    },
    {
      "cell_type": "code",
      "execution_count": 33,
      "metadata": {
        "id": "_3O3g17LCFrQ"
      },
      "outputs": [],
      "source": [
        "from sklearn.metrics import accuracy_score , classification_report"
      ]
    },
    {
      "cell_type": "code",
      "execution_count": 34,
      "metadata": {
        "id": "IqQb-w6pCFrR"
      },
      "outputs": [],
      "source": [
        "import warnings\n",
        "warnings.filterwarnings('ignore')"
      ]
    },
    {
      "cell_type": "code",
      "execution_count": 35,
      "metadata": {
        "id": "hTQK2y-FCFrS"
      },
      "outputs": [],
      "source": [
        "#Loading the dataset"
      ]
    },
    {
      "cell_type": "code",
      "execution_count": 36,
      "metadata": {
        "id": "_4-j2Po5CFrU"
      },
      "outputs": [],
      "source": [
        "h1n1 = pd.read_csv(\"h1n1_vaccine_prediction.csv\")"
      ]
    },
    {
      "cell_type": "code",
      "execution_count": 37,
      "metadata": {
        "colab": {
          "base_uri": "https://localhost:8080/",
          "height": 456
        },
        "id": "ifTUMBitCFrW",
        "outputId": "64818371-0752-4b97-d89c-a5a9a28e8ff7"
      },
      "outputs": [
        {
          "output_type": "execute_result",
          "data": {
            "text/plain": [
              "   unique_id  h1n1_worry  h1n1_awareness  antiviral_medication  \\\n",
              "0          0         1.0             0.0                   0.0   \n",
              "1          1         3.0             2.0                   0.0   \n",
              "2          2         1.0             1.0                   0.0   \n",
              "3          3         1.0             1.0                   0.0   \n",
              "4          4         2.0             1.0                   0.0   \n",
              "\n",
              "   contact_avoidance  bought_face_mask  wash_hands_frequently  \\\n",
              "0                0.0               0.0                    0.0   \n",
              "1                1.0               0.0                    1.0   \n",
              "2                1.0               0.0                    0.0   \n",
              "3                1.0               0.0                    1.0   \n",
              "4                1.0               0.0                    1.0   \n",
              "\n",
              "   avoid_large_gatherings  reduced_outside_home_cont  avoid_touch_face  ...  \\\n",
              "0                     0.0                        1.0               1.0  ...   \n",
              "1                     0.0                        1.0               1.0  ...   \n",
              "2                     0.0                        0.0               0.0  ...   \n",
              "3                     1.0                        0.0               0.0  ...   \n",
              "4                     1.0                        0.0               1.0  ...   \n",
              "\n",
              "    race     sex               income_level  marital_status  housing_status  \\\n",
              "0  White  Female              Below Poverty     Not Married             Own   \n",
              "1  White    Male              Below Poverty     Not Married            Rent   \n",
              "2  White    Male  <= $75,000, Above Poverty     Not Married             Own   \n",
              "3  White  Female              Below Poverty     Not Married            Rent   \n",
              "4  White  Female  <= $75,000, Above Poverty         Married             Own   \n",
              "\n",
              "           employment                census_msa  no_of_adults  no_of_children  \\\n",
              "0  Not in Labor Force                   Non-MSA           0.0             0.0   \n",
              "1            Employed  MSA, Not Principle  City           0.0             0.0   \n",
              "2            Employed  MSA, Not Principle  City           2.0             0.0   \n",
              "3  Not in Labor Force       MSA, Principle City           0.0             0.0   \n",
              "4            Employed  MSA, Not Principle  City           1.0             0.0   \n",
              "\n",
              "   h1n1_vaccine  \n",
              "0             0  \n",
              "1             0  \n",
              "2             0  \n",
              "3             0  \n",
              "4             0  \n",
              "\n",
              "[5 rows x 34 columns]"
            ],
            "text/html": [
              "\n",
              "  <div id=\"df-3111c3a1-da54-4292-8b29-75fec443de49\">\n",
              "    <div class=\"colab-df-container\">\n",
              "      <div>\n",
              "<style scoped>\n",
              "    .dataframe tbody tr th:only-of-type {\n",
              "        vertical-align: middle;\n",
              "    }\n",
              "\n",
              "    .dataframe tbody tr th {\n",
              "        vertical-align: top;\n",
              "    }\n",
              "\n",
              "    .dataframe thead th {\n",
              "        text-align: right;\n",
              "    }\n",
              "</style>\n",
              "<table border=\"1\" class=\"dataframe\">\n",
              "  <thead>\n",
              "    <tr style=\"text-align: right;\">\n",
              "      <th></th>\n",
              "      <th>unique_id</th>\n",
              "      <th>h1n1_worry</th>\n",
              "      <th>h1n1_awareness</th>\n",
              "      <th>antiviral_medication</th>\n",
              "      <th>contact_avoidance</th>\n",
              "      <th>bought_face_mask</th>\n",
              "      <th>wash_hands_frequently</th>\n",
              "      <th>avoid_large_gatherings</th>\n",
              "      <th>reduced_outside_home_cont</th>\n",
              "      <th>avoid_touch_face</th>\n",
              "      <th>...</th>\n",
              "      <th>race</th>\n",
              "      <th>sex</th>\n",
              "      <th>income_level</th>\n",
              "      <th>marital_status</th>\n",
              "      <th>housing_status</th>\n",
              "      <th>employment</th>\n",
              "      <th>census_msa</th>\n",
              "      <th>no_of_adults</th>\n",
              "      <th>no_of_children</th>\n",
              "      <th>h1n1_vaccine</th>\n",
              "    </tr>\n",
              "  </thead>\n",
              "  <tbody>\n",
              "    <tr>\n",
              "      <th>0</th>\n",
              "      <td>0</td>\n",
              "      <td>1.0</td>\n",
              "      <td>0.0</td>\n",
              "      <td>0.0</td>\n",
              "      <td>0.0</td>\n",
              "      <td>0.0</td>\n",
              "      <td>0.0</td>\n",
              "      <td>0.0</td>\n",
              "      <td>1.0</td>\n",
              "      <td>1.0</td>\n",
              "      <td>...</td>\n",
              "      <td>White</td>\n",
              "      <td>Female</td>\n",
              "      <td>Below Poverty</td>\n",
              "      <td>Not Married</td>\n",
              "      <td>Own</td>\n",
              "      <td>Not in Labor Force</td>\n",
              "      <td>Non-MSA</td>\n",
              "      <td>0.0</td>\n",
              "      <td>0.0</td>\n",
              "      <td>0</td>\n",
              "    </tr>\n",
              "    <tr>\n",
              "      <th>1</th>\n",
              "      <td>1</td>\n",
              "      <td>3.0</td>\n",
              "      <td>2.0</td>\n",
              "      <td>0.0</td>\n",
              "      <td>1.0</td>\n",
              "      <td>0.0</td>\n",
              "      <td>1.0</td>\n",
              "      <td>0.0</td>\n",
              "      <td>1.0</td>\n",
              "      <td>1.0</td>\n",
              "      <td>...</td>\n",
              "      <td>White</td>\n",
              "      <td>Male</td>\n",
              "      <td>Below Poverty</td>\n",
              "      <td>Not Married</td>\n",
              "      <td>Rent</td>\n",
              "      <td>Employed</td>\n",
              "      <td>MSA, Not Principle  City</td>\n",
              "      <td>0.0</td>\n",
              "      <td>0.0</td>\n",
              "      <td>0</td>\n",
              "    </tr>\n",
              "    <tr>\n",
              "      <th>2</th>\n",
              "      <td>2</td>\n",
              "      <td>1.0</td>\n",
              "      <td>1.0</td>\n",
              "      <td>0.0</td>\n",
              "      <td>1.0</td>\n",
              "      <td>0.0</td>\n",
              "      <td>0.0</td>\n",
              "      <td>0.0</td>\n",
              "      <td>0.0</td>\n",
              "      <td>0.0</td>\n",
              "      <td>...</td>\n",
              "      <td>White</td>\n",
              "      <td>Male</td>\n",
              "      <td>&lt;= $75,000, Above Poverty</td>\n",
              "      <td>Not Married</td>\n",
              "      <td>Own</td>\n",
              "      <td>Employed</td>\n",
              "      <td>MSA, Not Principle  City</td>\n",
              "      <td>2.0</td>\n",
              "      <td>0.0</td>\n",
              "      <td>0</td>\n",
              "    </tr>\n",
              "    <tr>\n",
              "      <th>3</th>\n",
              "      <td>3</td>\n",
              "      <td>1.0</td>\n",
              "      <td>1.0</td>\n",
              "      <td>0.0</td>\n",
              "      <td>1.0</td>\n",
              "      <td>0.0</td>\n",
              "      <td>1.0</td>\n",
              "      <td>1.0</td>\n",
              "      <td>0.0</td>\n",
              "      <td>0.0</td>\n",
              "      <td>...</td>\n",
              "      <td>White</td>\n",
              "      <td>Female</td>\n",
              "      <td>Below Poverty</td>\n",
              "      <td>Not Married</td>\n",
              "      <td>Rent</td>\n",
              "      <td>Not in Labor Force</td>\n",
              "      <td>MSA, Principle City</td>\n",
              "      <td>0.0</td>\n",
              "      <td>0.0</td>\n",
              "      <td>0</td>\n",
              "    </tr>\n",
              "    <tr>\n",
              "      <th>4</th>\n",
              "      <td>4</td>\n",
              "      <td>2.0</td>\n",
              "      <td>1.0</td>\n",
              "      <td>0.0</td>\n",
              "      <td>1.0</td>\n",
              "      <td>0.0</td>\n",
              "      <td>1.0</td>\n",
              "      <td>1.0</td>\n",
              "      <td>0.0</td>\n",
              "      <td>1.0</td>\n",
              "      <td>...</td>\n",
              "      <td>White</td>\n",
              "      <td>Female</td>\n",
              "      <td>&lt;= $75,000, Above Poverty</td>\n",
              "      <td>Married</td>\n",
              "      <td>Own</td>\n",
              "      <td>Employed</td>\n",
              "      <td>MSA, Not Principle  City</td>\n",
              "      <td>1.0</td>\n",
              "      <td>0.0</td>\n",
              "      <td>0</td>\n",
              "    </tr>\n",
              "  </tbody>\n",
              "</table>\n",
              "<p>5 rows × 34 columns</p>\n",
              "</div>\n",
              "      <button class=\"colab-df-convert\" onclick=\"convertToInteractive('df-3111c3a1-da54-4292-8b29-75fec443de49')\"\n",
              "              title=\"Convert this dataframe to an interactive table.\"\n",
              "              style=\"display:none;\">\n",
              "        \n",
              "  <svg xmlns=\"http://www.w3.org/2000/svg\" height=\"24px\"viewBox=\"0 0 24 24\"\n",
              "       width=\"24px\">\n",
              "    <path d=\"M0 0h24v24H0V0z\" fill=\"none\"/>\n",
              "    <path d=\"M18.56 5.44l.94 2.06.94-2.06 2.06-.94-2.06-.94-.94-2.06-.94 2.06-2.06.94zm-11 1L8.5 8.5l.94-2.06 2.06-.94-2.06-.94L8.5 2.5l-.94 2.06-2.06.94zm10 10l.94 2.06.94-2.06 2.06-.94-2.06-.94-.94-2.06-.94 2.06-2.06.94z\"/><path d=\"M17.41 7.96l-1.37-1.37c-.4-.4-.92-.59-1.43-.59-.52 0-1.04.2-1.43.59L10.3 9.45l-7.72 7.72c-.78.78-.78 2.05 0 2.83L4 21.41c.39.39.9.59 1.41.59.51 0 1.02-.2 1.41-.59l7.78-7.78 2.81-2.81c.8-.78.8-2.07 0-2.86zM5.41 20L4 18.59l7.72-7.72 1.47 1.35L5.41 20z\"/>\n",
              "  </svg>\n",
              "      </button>\n",
              "      \n",
              "  <style>\n",
              "    .colab-df-container {\n",
              "      display:flex;\n",
              "      flex-wrap:wrap;\n",
              "      gap: 12px;\n",
              "    }\n",
              "\n",
              "    .colab-df-convert {\n",
              "      background-color: #E8F0FE;\n",
              "      border: none;\n",
              "      border-radius: 50%;\n",
              "      cursor: pointer;\n",
              "      display: none;\n",
              "      fill: #1967D2;\n",
              "      height: 32px;\n",
              "      padding: 0 0 0 0;\n",
              "      width: 32px;\n",
              "    }\n",
              "\n",
              "    .colab-df-convert:hover {\n",
              "      background-color: #E2EBFA;\n",
              "      box-shadow: 0px 1px 2px rgba(60, 64, 67, 0.3), 0px 1px 3px 1px rgba(60, 64, 67, 0.15);\n",
              "      fill: #174EA6;\n",
              "    }\n",
              "\n",
              "    [theme=dark] .colab-df-convert {\n",
              "      background-color: #3B4455;\n",
              "      fill: #D2E3FC;\n",
              "    }\n",
              "\n",
              "    [theme=dark] .colab-df-convert:hover {\n",
              "      background-color: #434B5C;\n",
              "      box-shadow: 0px 1px 3px 1px rgba(0, 0, 0, 0.15);\n",
              "      filter: drop-shadow(0px 1px 2px rgba(0, 0, 0, 0.3));\n",
              "      fill: #FFFFFF;\n",
              "    }\n",
              "  </style>\n",
              "\n",
              "      <script>\n",
              "        const buttonEl =\n",
              "          document.querySelector('#df-3111c3a1-da54-4292-8b29-75fec443de49 button.colab-df-convert');\n",
              "        buttonEl.style.display =\n",
              "          google.colab.kernel.accessAllowed ? 'block' : 'none';\n",
              "\n",
              "        async function convertToInteractive(key) {\n",
              "          const element = document.querySelector('#df-3111c3a1-da54-4292-8b29-75fec443de49');\n",
              "          const dataTable =\n",
              "            await google.colab.kernel.invokeFunction('convertToInteractive',\n",
              "                                                     [key], {});\n",
              "          if (!dataTable) return;\n",
              "\n",
              "          const docLinkHtml = 'Like what you see? Visit the ' +\n",
              "            '<a target=\"_blank\" href=https://colab.research.google.com/notebooks/data_table.ipynb>data table notebook</a>'\n",
              "            + ' to learn more about interactive tables.';\n",
              "          element.innerHTML = '';\n",
              "          dataTable['output_type'] = 'display_data';\n",
              "          await google.colab.output.renderOutput(dataTable, element);\n",
              "          const docLink = document.createElement('div');\n",
              "          docLink.innerHTML = docLinkHtml;\n",
              "          element.appendChild(docLink);\n",
              "        }\n",
              "      </script>\n",
              "    </div>\n",
              "  </div>\n",
              "  "
            ]
          },
          "metadata": {},
          "execution_count": 37
        }
      ],
      "source": [
        "h1n1.head()"
      ]
    },
    {
      "cell_type": "code",
      "execution_count": 38,
      "metadata": {
        "colab": {
          "base_uri": "https://localhost:8080/",
          "height": 438
        },
        "id": "s-9G_7JVCFrY",
        "outputId": "77e87750-a7f5-4537-a7c0-cd507cc8d39e"
      },
      "outputs": [
        {
          "output_type": "execute_result",
          "data": {
            "text/plain": [
              "       unique_id  h1n1_worry  h1n1_awareness  antiviral_medication  \\\n",
              "26702      26702         2.0             0.0                   0.0   \n",
              "26703      26703         1.0             2.0                   0.0   \n",
              "26704      26704         2.0             2.0                   0.0   \n",
              "26705      26705         1.0             1.0                   0.0   \n",
              "26706      26706         0.0             0.0                   0.0   \n",
              "\n",
              "       contact_avoidance  bought_face_mask  wash_hands_frequently  \\\n",
              "26702                1.0               0.0                    0.0   \n",
              "26703                1.0               0.0                    1.0   \n",
              "26704                1.0               1.0                    1.0   \n",
              "26705                0.0               0.0                    0.0   \n",
              "26706                1.0               0.0                    0.0   \n",
              "\n",
              "       avoid_large_gatherings  reduced_outside_home_cont  avoid_touch_face  \\\n",
              "26702                     0.0                        1.0               0.0   \n",
              "26703                     0.0                        0.0               0.0   \n",
              "26704                     1.0                        0.0               1.0   \n",
              "26705                     0.0                        0.0               NaN   \n",
              "26706                     0.0                        0.0               0.0   \n",
              "\n",
              "       ...      race     sex               income_level  marital_status  \\\n",
              "26702  ...     White  Female  <= $75,000, Above Poverty     Not Married   \n",
              "26703  ...     White    Male  <= $75,000, Above Poverty     Not Married   \n",
              "26704  ...     White  Female                        NaN     Not Married   \n",
              "26705  ...  Hispanic  Female  <= $75,000, Above Poverty         Married   \n",
              "26706  ...     White    Male  <= $75,000, Above Poverty         Married   \n",
              "\n",
              "       housing_status          employment                census_msa  \\\n",
              "26702             Own  Not in Labor Force                   Non-MSA   \n",
              "26703            Rent            Employed       MSA, Principle City   \n",
              "26704             Own                 NaN  MSA, Not Principle  City   \n",
              "26705            Rent            Employed                   Non-MSA   \n",
              "26706             Own  Not in Labor Force       MSA, Principle City   \n",
              "\n",
              "       no_of_adults  no_of_children  h1n1_vaccine  \n",
              "26702           0.0             0.0             0  \n",
              "26703           1.0             0.0             0  \n",
              "26704           0.0             0.0             0  \n",
              "26705           1.0             0.0             0  \n",
              "26706           1.0             0.0             0  \n",
              "\n",
              "[5 rows x 34 columns]"
            ],
            "text/html": [
              "\n",
              "  <div id=\"df-1e6579a1-469e-4c10-a9b7-69cad06eb4cf\">\n",
              "    <div class=\"colab-df-container\">\n",
              "      <div>\n",
              "<style scoped>\n",
              "    .dataframe tbody tr th:only-of-type {\n",
              "        vertical-align: middle;\n",
              "    }\n",
              "\n",
              "    .dataframe tbody tr th {\n",
              "        vertical-align: top;\n",
              "    }\n",
              "\n",
              "    .dataframe thead th {\n",
              "        text-align: right;\n",
              "    }\n",
              "</style>\n",
              "<table border=\"1\" class=\"dataframe\">\n",
              "  <thead>\n",
              "    <tr style=\"text-align: right;\">\n",
              "      <th></th>\n",
              "      <th>unique_id</th>\n",
              "      <th>h1n1_worry</th>\n",
              "      <th>h1n1_awareness</th>\n",
              "      <th>antiviral_medication</th>\n",
              "      <th>contact_avoidance</th>\n",
              "      <th>bought_face_mask</th>\n",
              "      <th>wash_hands_frequently</th>\n",
              "      <th>avoid_large_gatherings</th>\n",
              "      <th>reduced_outside_home_cont</th>\n",
              "      <th>avoid_touch_face</th>\n",
              "      <th>...</th>\n",
              "      <th>race</th>\n",
              "      <th>sex</th>\n",
              "      <th>income_level</th>\n",
              "      <th>marital_status</th>\n",
              "      <th>housing_status</th>\n",
              "      <th>employment</th>\n",
              "      <th>census_msa</th>\n",
              "      <th>no_of_adults</th>\n",
              "      <th>no_of_children</th>\n",
              "      <th>h1n1_vaccine</th>\n",
              "    </tr>\n",
              "  </thead>\n",
              "  <tbody>\n",
              "    <tr>\n",
              "      <th>26702</th>\n",
              "      <td>26702</td>\n",
              "      <td>2.0</td>\n",
              "      <td>0.0</td>\n",
              "      <td>0.0</td>\n",
              "      <td>1.0</td>\n",
              "      <td>0.0</td>\n",
              "      <td>0.0</td>\n",
              "      <td>0.0</td>\n",
              "      <td>1.0</td>\n",
              "      <td>0.0</td>\n",
              "      <td>...</td>\n",
              "      <td>White</td>\n",
              "      <td>Female</td>\n",
              "      <td>&lt;= $75,000, Above Poverty</td>\n",
              "      <td>Not Married</td>\n",
              "      <td>Own</td>\n",
              "      <td>Not in Labor Force</td>\n",
              "      <td>Non-MSA</td>\n",
              "      <td>0.0</td>\n",
              "      <td>0.0</td>\n",
              "      <td>0</td>\n",
              "    </tr>\n",
              "    <tr>\n",
              "      <th>26703</th>\n",
              "      <td>26703</td>\n",
              "      <td>1.0</td>\n",
              "      <td>2.0</td>\n",
              "      <td>0.0</td>\n",
              "      <td>1.0</td>\n",
              "      <td>0.0</td>\n",
              "      <td>1.0</td>\n",
              "      <td>0.0</td>\n",
              "      <td>0.0</td>\n",
              "      <td>0.0</td>\n",
              "      <td>...</td>\n",
              "      <td>White</td>\n",
              "      <td>Male</td>\n",
              "      <td>&lt;= $75,000, Above Poverty</td>\n",
              "      <td>Not Married</td>\n",
              "      <td>Rent</td>\n",
              "      <td>Employed</td>\n",
              "      <td>MSA, Principle City</td>\n",
              "      <td>1.0</td>\n",
              "      <td>0.0</td>\n",
              "      <td>0</td>\n",
              "    </tr>\n",
              "    <tr>\n",
              "      <th>26704</th>\n",
              "      <td>26704</td>\n",
              "      <td>2.0</td>\n",
              "      <td>2.0</td>\n",
              "      <td>0.0</td>\n",
              "      <td>1.0</td>\n",
              "      <td>1.0</td>\n",
              "      <td>1.0</td>\n",
              "      <td>1.0</td>\n",
              "      <td>0.0</td>\n",
              "      <td>1.0</td>\n",
              "      <td>...</td>\n",
              "      <td>White</td>\n",
              "      <td>Female</td>\n",
              "      <td>NaN</td>\n",
              "      <td>Not Married</td>\n",
              "      <td>Own</td>\n",
              "      <td>NaN</td>\n",
              "      <td>MSA, Not Principle  City</td>\n",
              "      <td>0.0</td>\n",
              "      <td>0.0</td>\n",
              "      <td>0</td>\n",
              "    </tr>\n",
              "    <tr>\n",
              "      <th>26705</th>\n",
              "      <td>26705</td>\n",
              "      <td>1.0</td>\n",
              "      <td>1.0</td>\n",
              "      <td>0.0</td>\n",
              "      <td>0.0</td>\n",
              "      <td>0.0</td>\n",
              "      <td>0.0</td>\n",
              "      <td>0.0</td>\n",
              "      <td>0.0</td>\n",
              "      <td>NaN</td>\n",
              "      <td>...</td>\n",
              "      <td>Hispanic</td>\n",
              "      <td>Female</td>\n",
              "      <td>&lt;= $75,000, Above Poverty</td>\n",
              "      <td>Married</td>\n",
              "      <td>Rent</td>\n",
              "      <td>Employed</td>\n",
              "      <td>Non-MSA</td>\n",
              "      <td>1.0</td>\n",
              "      <td>0.0</td>\n",
              "      <td>0</td>\n",
              "    </tr>\n",
              "    <tr>\n",
              "      <th>26706</th>\n",
              "      <td>26706</td>\n",
              "      <td>0.0</td>\n",
              "      <td>0.0</td>\n",
              "      <td>0.0</td>\n",
              "      <td>1.0</td>\n",
              "      <td>0.0</td>\n",
              "      <td>0.0</td>\n",
              "      <td>0.0</td>\n",
              "      <td>0.0</td>\n",
              "      <td>0.0</td>\n",
              "      <td>...</td>\n",
              "      <td>White</td>\n",
              "      <td>Male</td>\n",
              "      <td>&lt;= $75,000, Above Poverty</td>\n",
              "      <td>Married</td>\n",
              "      <td>Own</td>\n",
              "      <td>Not in Labor Force</td>\n",
              "      <td>MSA, Principle City</td>\n",
              "      <td>1.0</td>\n",
              "      <td>0.0</td>\n",
              "      <td>0</td>\n",
              "    </tr>\n",
              "  </tbody>\n",
              "</table>\n",
              "<p>5 rows × 34 columns</p>\n",
              "</div>\n",
              "      <button class=\"colab-df-convert\" onclick=\"convertToInteractive('df-1e6579a1-469e-4c10-a9b7-69cad06eb4cf')\"\n",
              "              title=\"Convert this dataframe to an interactive table.\"\n",
              "              style=\"display:none;\">\n",
              "        \n",
              "  <svg xmlns=\"http://www.w3.org/2000/svg\" height=\"24px\"viewBox=\"0 0 24 24\"\n",
              "       width=\"24px\">\n",
              "    <path d=\"M0 0h24v24H0V0z\" fill=\"none\"/>\n",
              "    <path d=\"M18.56 5.44l.94 2.06.94-2.06 2.06-.94-2.06-.94-.94-2.06-.94 2.06-2.06.94zm-11 1L8.5 8.5l.94-2.06 2.06-.94-2.06-.94L8.5 2.5l-.94 2.06-2.06.94zm10 10l.94 2.06.94-2.06 2.06-.94-2.06-.94-.94-2.06-.94 2.06-2.06.94z\"/><path d=\"M17.41 7.96l-1.37-1.37c-.4-.4-.92-.59-1.43-.59-.52 0-1.04.2-1.43.59L10.3 9.45l-7.72 7.72c-.78.78-.78 2.05 0 2.83L4 21.41c.39.39.9.59 1.41.59.51 0 1.02-.2 1.41-.59l7.78-7.78 2.81-2.81c.8-.78.8-2.07 0-2.86zM5.41 20L4 18.59l7.72-7.72 1.47 1.35L5.41 20z\"/>\n",
              "  </svg>\n",
              "      </button>\n",
              "      \n",
              "  <style>\n",
              "    .colab-df-container {\n",
              "      display:flex;\n",
              "      flex-wrap:wrap;\n",
              "      gap: 12px;\n",
              "    }\n",
              "\n",
              "    .colab-df-convert {\n",
              "      background-color: #E8F0FE;\n",
              "      border: none;\n",
              "      border-radius: 50%;\n",
              "      cursor: pointer;\n",
              "      display: none;\n",
              "      fill: #1967D2;\n",
              "      height: 32px;\n",
              "      padding: 0 0 0 0;\n",
              "      width: 32px;\n",
              "    }\n",
              "\n",
              "    .colab-df-convert:hover {\n",
              "      background-color: #E2EBFA;\n",
              "      box-shadow: 0px 1px 2px rgba(60, 64, 67, 0.3), 0px 1px 3px 1px rgba(60, 64, 67, 0.15);\n",
              "      fill: #174EA6;\n",
              "    }\n",
              "\n",
              "    [theme=dark] .colab-df-convert {\n",
              "      background-color: #3B4455;\n",
              "      fill: #D2E3FC;\n",
              "    }\n",
              "\n",
              "    [theme=dark] .colab-df-convert:hover {\n",
              "      background-color: #434B5C;\n",
              "      box-shadow: 0px 1px 3px 1px rgba(0, 0, 0, 0.15);\n",
              "      filter: drop-shadow(0px 1px 2px rgba(0, 0, 0, 0.3));\n",
              "      fill: #FFFFFF;\n",
              "    }\n",
              "  </style>\n",
              "\n",
              "      <script>\n",
              "        const buttonEl =\n",
              "          document.querySelector('#df-1e6579a1-469e-4c10-a9b7-69cad06eb4cf button.colab-df-convert');\n",
              "        buttonEl.style.display =\n",
              "          google.colab.kernel.accessAllowed ? 'block' : 'none';\n",
              "\n",
              "        async function convertToInteractive(key) {\n",
              "          const element = document.querySelector('#df-1e6579a1-469e-4c10-a9b7-69cad06eb4cf');\n",
              "          const dataTable =\n",
              "            await google.colab.kernel.invokeFunction('convertToInteractive',\n",
              "                                                     [key], {});\n",
              "          if (!dataTable) return;\n",
              "\n",
              "          const docLinkHtml = 'Like what you see? Visit the ' +\n",
              "            '<a target=\"_blank\" href=https://colab.research.google.com/notebooks/data_table.ipynb>data table notebook</a>'\n",
              "            + ' to learn more about interactive tables.';\n",
              "          element.innerHTML = '';\n",
              "          dataTable['output_type'] = 'display_data';\n",
              "          await google.colab.output.renderOutput(dataTable, element);\n",
              "          const docLink = document.createElement('div');\n",
              "          docLink.innerHTML = docLinkHtml;\n",
              "          element.appendChild(docLink);\n",
              "        }\n",
              "      </script>\n",
              "    </div>\n",
              "  </div>\n",
              "  "
            ]
          },
          "metadata": {},
          "execution_count": 38
        }
      ],
      "source": [
        "h1n1.tail()"
      ]
    },
    {
      "cell_type": "code",
      "execution_count": 39,
      "metadata": {
        "id": "yCz0IDR4CFra"
      },
      "outputs": [],
      "source": [
        "features = h1n1.iloc[:,:-1]\n",
        "labels = h1n1.iloc[:,[33]]\n"
      ]
    },
    {
      "cell_type": "code",
      "execution_count": 40,
      "metadata": {
        "colab": {
          "base_uri": "https://localhost:8080/",
          "height": 783
        },
        "id": "GPFsJ0obCFrc",
        "outputId": "29e34a43-ca53-43f1-ee45-846feb76a431"
      },
      "outputs": [
        {
          "output_type": "execute_result",
          "data": {
            "text/plain": [
              "       unique_id  h1n1_worry  h1n1_awareness  antiviral_medication  \\\n",
              "0              0         1.0             0.0                   0.0   \n",
              "1              1         3.0             2.0                   0.0   \n",
              "2              2         1.0             1.0                   0.0   \n",
              "3              3         1.0             1.0                   0.0   \n",
              "4              4         2.0             1.0                   0.0   \n",
              "...          ...         ...             ...                   ...   \n",
              "26702      26702         2.0             0.0                   0.0   \n",
              "26703      26703         1.0             2.0                   0.0   \n",
              "26704      26704         2.0             2.0                   0.0   \n",
              "26705      26705         1.0             1.0                   0.0   \n",
              "26706      26706         0.0             0.0                   0.0   \n",
              "\n",
              "       contact_avoidance  bought_face_mask  wash_hands_frequently  \\\n",
              "0                    0.0               0.0                    0.0   \n",
              "1                    1.0               0.0                    1.0   \n",
              "2                    1.0               0.0                    0.0   \n",
              "3                    1.0               0.0                    1.0   \n",
              "4                    1.0               0.0                    1.0   \n",
              "...                  ...               ...                    ...   \n",
              "26702                1.0               0.0                    0.0   \n",
              "26703                1.0               0.0                    1.0   \n",
              "26704                1.0               1.0                    1.0   \n",
              "26705                0.0               0.0                    0.0   \n",
              "26706                1.0               0.0                    0.0   \n",
              "\n",
              "       avoid_large_gatherings  reduced_outside_home_cont  avoid_touch_face  \\\n",
              "0                         0.0                        1.0               1.0   \n",
              "1                         0.0                        1.0               1.0   \n",
              "2                         0.0                        0.0               0.0   \n",
              "3                         1.0                        0.0               0.0   \n",
              "4                         1.0                        0.0               1.0   \n",
              "...                       ...                        ...               ...   \n",
              "26702                     0.0                        1.0               0.0   \n",
              "26703                     0.0                        0.0               0.0   \n",
              "26704                     1.0                        0.0               1.0   \n",
              "26705                     0.0                        0.0               NaN   \n",
              "26706                     0.0                        0.0               0.0   \n",
              "\n",
              "       ...     qualification      race     sex               income_level  \\\n",
              "0      ...        < 12 Years     White  Female              Below Poverty   \n",
              "1      ...          12 Years     White    Male              Below Poverty   \n",
              "2      ...  College Graduate     White    Male  <= $75,000, Above Poverty   \n",
              "3      ...          12 Years     White  Female              Below Poverty   \n",
              "4      ...      Some College     White  Female  <= $75,000, Above Poverty   \n",
              "...    ...               ...       ...     ...                        ...   \n",
              "26702  ...      Some College     White  Female  <= $75,000, Above Poverty   \n",
              "26703  ...  College Graduate     White    Male  <= $75,000, Above Poverty   \n",
              "26704  ...      Some College     White  Female                        NaN   \n",
              "26705  ...      Some College  Hispanic  Female  <= $75,000, Above Poverty   \n",
              "26706  ...      Some College     White    Male  <= $75,000, Above Poverty   \n",
              "\n",
              "       marital_status  housing_status          employment  \\\n",
              "0         Not Married             Own  Not in Labor Force   \n",
              "1         Not Married            Rent            Employed   \n",
              "2         Not Married             Own            Employed   \n",
              "3         Not Married            Rent  Not in Labor Force   \n",
              "4             Married             Own            Employed   \n",
              "...               ...             ...                 ...   \n",
              "26702     Not Married             Own  Not in Labor Force   \n",
              "26703     Not Married            Rent            Employed   \n",
              "26704     Not Married             Own                 NaN   \n",
              "26705         Married            Rent            Employed   \n",
              "26706         Married             Own  Not in Labor Force   \n",
              "\n",
              "                     census_msa  no_of_adults  no_of_children  \n",
              "0                       Non-MSA           0.0             0.0  \n",
              "1      MSA, Not Principle  City           0.0             0.0  \n",
              "2      MSA, Not Principle  City           2.0             0.0  \n",
              "3           MSA, Principle City           0.0             0.0  \n",
              "4      MSA, Not Principle  City           1.0             0.0  \n",
              "...                         ...           ...             ...  \n",
              "26702                   Non-MSA           0.0             0.0  \n",
              "26703       MSA, Principle City           1.0             0.0  \n",
              "26704  MSA, Not Principle  City           0.0             0.0  \n",
              "26705                   Non-MSA           1.0             0.0  \n",
              "26706       MSA, Principle City           1.0             0.0  \n",
              "\n",
              "[26707 rows x 33 columns]"
            ],
            "text/html": [
              "\n",
              "  <div id=\"df-c965248a-c131-4391-aa2d-19e3682b0b24\">\n",
              "    <div class=\"colab-df-container\">\n",
              "      <div>\n",
              "<style scoped>\n",
              "    .dataframe tbody tr th:only-of-type {\n",
              "        vertical-align: middle;\n",
              "    }\n",
              "\n",
              "    .dataframe tbody tr th {\n",
              "        vertical-align: top;\n",
              "    }\n",
              "\n",
              "    .dataframe thead th {\n",
              "        text-align: right;\n",
              "    }\n",
              "</style>\n",
              "<table border=\"1\" class=\"dataframe\">\n",
              "  <thead>\n",
              "    <tr style=\"text-align: right;\">\n",
              "      <th></th>\n",
              "      <th>unique_id</th>\n",
              "      <th>h1n1_worry</th>\n",
              "      <th>h1n1_awareness</th>\n",
              "      <th>antiviral_medication</th>\n",
              "      <th>contact_avoidance</th>\n",
              "      <th>bought_face_mask</th>\n",
              "      <th>wash_hands_frequently</th>\n",
              "      <th>avoid_large_gatherings</th>\n",
              "      <th>reduced_outside_home_cont</th>\n",
              "      <th>avoid_touch_face</th>\n",
              "      <th>...</th>\n",
              "      <th>qualification</th>\n",
              "      <th>race</th>\n",
              "      <th>sex</th>\n",
              "      <th>income_level</th>\n",
              "      <th>marital_status</th>\n",
              "      <th>housing_status</th>\n",
              "      <th>employment</th>\n",
              "      <th>census_msa</th>\n",
              "      <th>no_of_adults</th>\n",
              "      <th>no_of_children</th>\n",
              "    </tr>\n",
              "  </thead>\n",
              "  <tbody>\n",
              "    <tr>\n",
              "      <th>0</th>\n",
              "      <td>0</td>\n",
              "      <td>1.0</td>\n",
              "      <td>0.0</td>\n",
              "      <td>0.0</td>\n",
              "      <td>0.0</td>\n",
              "      <td>0.0</td>\n",
              "      <td>0.0</td>\n",
              "      <td>0.0</td>\n",
              "      <td>1.0</td>\n",
              "      <td>1.0</td>\n",
              "      <td>...</td>\n",
              "      <td>&lt; 12 Years</td>\n",
              "      <td>White</td>\n",
              "      <td>Female</td>\n",
              "      <td>Below Poverty</td>\n",
              "      <td>Not Married</td>\n",
              "      <td>Own</td>\n",
              "      <td>Not in Labor Force</td>\n",
              "      <td>Non-MSA</td>\n",
              "      <td>0.0</td>\n",
              "      <td>0.0</td>\n",
              "    </tr>\n",
              "    <tr>\n",
              "      <th>1</th>\n",
              "      <td>1</td>\n",
              "      <td>3.0</td>\n",
              "      <td>2.0</td>\n",
              "      <td>0.0</td>\n",
              "      <td>1.0</td>\n",
              "      <td>0.0</td>\n",
              "      <td>1.0</td>\n",
              "      <td>0.0</td>\n",
              "      <td>1.0</td>\n",
              "      <td>1.0</td>\n",
              "      <td>...</td>\n",
              "      <td>12 Years</td>\n",
              "      <td>White</td>\n",
              "      <td>Male</td>\n",
              "      <td>Below Poverty</td>\n",
              "      <td>Not Married</td>\n",
              "      <td>Rent</td>\n",
              "      <td>Employed</td>\n",
              "      <td>MSA, Not Principle  City</td>\n",
              "      <td>0.0</td>\n",
              "      <td>0.0</td>\n",
              "    </tr>\n",
              "    <tr>\n",
              "      <th>2</th>\n",
              "      <td>2</td>\n",
              "      <td>1.0</td>\n",
              "      <td>1.0</td>\n",
              "      <td>0.0</td>\n",
              "      <td>1.0</td>\n",
              "      <td>0.0</td>\n",
              "      <td>0.0</td>\n",
              "      <td>0.0</td>\n",
              "      <td>0.0</td>\n",
              "      <td>0.0</td>\n",
              "      <td>...</td>\n",
              "      <td>College Graduate</td>\n",
              "      <td>White</td>\n",
              "      <td>Male</td>\n",
              "      <td>&lt;= $75,000, Above Poverty</td>\n",
              "      <td>Not Married</td>\n",
              "      <td>Own</td>\n",
              "      <td>Employed</td>\n",
              "      <td>MSA, Not Principle  City</td>\n",
              "      <td>2.0</td>\n",
              "      <td>0.0</td>\n",
              "    </tr>\n",
              "    <tr>\n",
              "      <th>3</th>\n",
              "      <td>3</td>\n",
              "      <td>1.0</td>\n",
              "      <td>1.0</td>\n",
              "      <td>0.0</td>\n",
              "      <td>1.0</td>\n",
              "      <td>0.0</td>\n",
              "      <td>1.0</td>\n",
              "      <td>1.0</td>\n",
              "      <td>0.0</td>\n",
              "      <td>0.0</td>\n",
              "      <td>...</td>\n",
              "      <td>12 Years</td>\n",
              "      <td>White</td>\n",
              "      <td>Female</td>\n",
              "      <td>Below Poverty</td>\n",
              "      <td>Not Married</td>\n",
              "      <td>Rent</td>\n",
              "      <td>Not in Labor Force</td>\n",
              "      <td>MSA, Principle City</td>\n",
              "      <td>0.0</td>\n",
              "      <td>0.0</td>\n",
              "    </tr>\n",
              "    <tr>\n",
              "      <th>4</th>\n",
              "      <td>4</td>\n",
              "      <td>2.0</td>\n",
              "      <td>1.0</td>\n",
              "      <td>0.0</td>\n",
              "      <td>1.0</td>\n",
              "      <td>0.0</td>\n",
              "      <td>1.0</td>\n",
              "      <td>1.0</td>\n",
              "      <td>0.0</td>\n",
              "      <td>1.0</td>\n",
              "      <td>...</td>\n",
              "      <td>Some College</td>\n",
              "      <td>White</td>\n",
              "      <td>Female</td>\n",
              "      <td>&lt;= $75,000, Above Poverty</td>\n",
              "      <td>Married</td>\n",
              "      <td>Own</td>\n",
              "      <td>Employed</td>\n",
              "      <td>MSA, Not Principle  City</td>\n",
              "      <td>1.0</td>\n",
              "      <td>0.0</td>\n",
              "    </tr>\n",
              "    <tr>\n",
              "      <th>...</th>\n",
              "      <td>...</td>\n",
              "      <td>...</td>\n",
              "      <td>...</td>\n",
              "      <td>...</td>\n",
              "      <td>...</td>\n",
              "      <td>...</td>\n",
              "      <td>...</td>\n",
              "      <td>...</td>\n",
              "      <td>...</td>\n",
              "      <td>...</td>\n",
              "      <td>...</td>\n",
              "      <td>...</td>\n",
              "      <td>...</td>\n",
              "      <td>...</td>\n",
              "      <td>...</td>\n",
              "      <td>...</td>\n",
              "      <td>...</td>\n",
              "      <td>...</td>\n",
              "      <td>...</td>\n",
              "      <td>...</td>\n",
              "      <td>...</td>\n",
              "    </tr>\n",
              "    <tr>\n",
              "      <th>26702</th>\n",
              "      <td>26702</td>\n",
              "      <td>2.0</td>\n",
              "      <td>0.0</td>\n",
              "      <td>0.0</td>\n",
              "      <td>1.0</td>\n",
              "      <td>0.0</td>\n",
              "      <td>0.0</td>\n",
              "      <td>0.0</td>\n",
              "      <td>1.0</td>\n",
              "      <td>0.0</td>\n",
              "      <td>...</td>\n",
              "      <td>Some College</td>\n",
              "      <td>White</td>\n",
              "      <td>Female</td>\n",
              "      <td>&lt;= $75,000, Above Poverty</td>\n",
              "      <td>Not Married</td>\n",
              "      <td>Own</td>\n",
              "      <td>Not in Labor Force</td>\n",
              "      <td>Non-MSA</td>\n",
              "      <td>0.0</td>\n",
              "      <td>0.0</td>\n",
              "    </tr>\n",
              "    <tr>\n",
              "      <th>26703</th>\n",
              "      <td>26703</td>\n",
              "      <td>1.0</td>\n",
              "      <td>2.0</td>\n",
              "      <td>0.0</td>\n",
              "      <td>1.0</td>\n",
              "      <td>0.0</td>\n",
              "      <td>1.0</td>\n",
              "      <td>0.0</td>\n",
              "      <td>0.0</td>\n",
              "      <td>0.0</td>\n",
              "      <td>...</td>\n",
              "      <td>College Graduate</td>\n",
              "      <td>White</td>\n",
              "      <td>Male</td>\n",
              "      <td>&lt;= $75,000, Above Poverty</td>\n",
              "      <td>Not Married</td>\n",
              "      <td>Rent</td>\n",
              "      <td>Employed</td>\n",
              "      <td>MSA, Principle City</td>\n",
              "      <td>1.0</td>\n",
              "      <td>0.0</td>\n",
              "    </tr>\n",
              "    <tr>\n",
              "      <th>26704</th>\n",
              "      <td>26704</td>\n",
              "      <td>2.0</td>\n",
              "      <td>2.0</td>\n",
              "      <td>0.0</td>\n",
              "      <td>1.0</td>\n",
              "      <td>1.0</td>\n",
              "      <td>1.0</td>\n",
              "      <td>1.0</td>\n",
              "      <td>0.0</td>\n",
              "      <td>1.0</td>\n",
              "      <td>...</td>\n",
              "      <td>Some College</td>\n",
              "      <td>White</td>\n",
              "      <td>Female</td>\n",
              "      <td>NaN</td>\n",
              "      <td>Not Married</td>\n",
              "      <td>Own</td>\n",
              "      <td>NaN</td>\n",
              "      <td>MSA, Not Principle  City</td>\n",
              "      <td>0.0</td>\n",
              "      <td>0.0</td>\n",
              "    </tr>\n",
              "    <tr>\n",
              "      <th>26705</th>\n",
              "      <td>26705</td>\n",
              "      <td>1.0</td>\n",
              "      <td>1.0</td>\n",
              "      <td>0.0</td>\n",
              "      <td>0.0</td>\n",
              "      <td>0.0</td>\n",
              "      <td>0.0</td>\n",
              "      <td>0.0</td>\n",
              "      <td>0.0</td>\n",
              "      <td>NaN</td>\n",
              "      <td>...</td>\n",
              "      <td>Some College</td>\n",
              "      <td>Hispanic</td>\n",
              "      <td>Female</td>\n",
              "      <td>&lt;= $75,000, Above Poverty</td>\n",
              "      <td>Married</td>\n",
              "      <td>Rent</td>\n",
              "      <td>Employed</td>\n",
              "      <td>Non-MSA</td>\n",
              "      <td>1.0</td>\n",
              "      <td>0.0</td>\n",
              "    </tr>\n",
              "    <tr>\n",
              "      <th>26706</th>\n",
              "      <td>26706</td>\n",
              "      <td>0.0</td>\n",
              "      <td>0.0</td>\n",
              "      <td>0.0</td>\n",
              "      <td>1.0</td>\n",
              "      <td>0.0</td>\n",
              "      <td>0.0</td>\n",
              "      <td>0.0</td>\n",
              "      <td>0.0</td>\n",
              "      <td>0.0</td>\n",
              "      <td>...</td>\n",
              "      <td>Some College</td>\n",
              "      <td>White</td>\n",
              "      <td>Male</td>\n",
              "      <td>&lt;= $75,000, Above Poverty</td>\n",
              "      <td>Married</td>\n",
              "      <td>Own</td>\n",
              "      <td>Not in Labor Force</td>\n",
              "      <td>MSA, Principle City</td>\n",
              "      <td>1.0</td>\n",
              "      <td>0.0</td>\n",
              "    </tr>\n",
              "  </tbody>\n",
              "</table>\n",
              "<p>26707 rows × 33 columns</p>\n",
              "</div>\n",
              "      <button class=\"colab-df-convert\" onclick=\"convertToInteractive('df-c965248a-c131-4391-aa2d-19e3682b0b24')\"\n",
              "              title=\"Convert this dataframe to an interactive table.\"\n",
              "              style=\"display:none;\">\n",
              "        \n",
              "  <svg xmlns=\"http://www.w3.org/2000/svg\" height=\"24px\"viewBox=\"0 0 24 24\"\n",
              "       width=\"24px\">\n",
              "    <path d=\"M0 0h24v24H0V0z\" fill=\"none\"/>\n",
              "    <path d=\"M18.56 5.44l.94 2.06.94-2.06 2.06-.94-2.06-.94-.94-2.06-.94 2.06-2.06.94zm-11 1L8.5 8.5l.94-2.06 2.06-.94-2.06-.94L8.5 2.5l-.94 2.06-2.06.94zm10 10l.94 2.06.94-2.06 2.06-.94-2.06-.94-.94-2.06-.94 2.06-2.06.94z\"/><path d=\"M17.41 7.96l-1.37-1.37c-.4-.4-.92-.59-1.43-.59-.52 0-1.04.2-1.43.59L10.3 9.45l-7.72 7.72c-.78.78-.78 2.05 0 2.83L4 21.41c.39.39.9.59 1.41.59.51 0 1.02-.2 1.41-.59l7.78-7.78 2.81-2.81c.8-.78.8-2.07 0-2.86zM5.41 20L4 18.59l7.72-7.72 1.47 1.35L5.41 20z\"/>\n",
              "  </svg>\n",
              "      </button>\n",
              "      \n",
              "  <style>\n",
              "    .colab-df-container {\n",
              "      display:flex;\n",
              "      flex-wrap:wrap;\n",
              "      gap: 12px;\n",
              "    }\n",
              "\n",
              "    .colab-df-convert {\n",
              "      background-color: #E8F0FE;\n",
              "      border: none;\n",
              "      border-radius: 50%;\n",
              "      cursor: pointer;\n",
              "      display: none;\n",
              "      fill: #1967D2;\n",
              "      height: 32px;\n",
              "      padding: 0 0 0 0;\n",
              "      width: 32px;\n",
              "    }\n",
              "\n",
              "    .colab-df-convert:hover {\n",
              "      background-color: #E2EBFA;\n",
              "      box-shadow: 0px 1px 2px rgba(60, 64, 67, 0.3), 0px 1px 3px 1px rgba(60, 64, 67, 0.15);\n",
              "      fill: #174EA6;\n",
              "    }\n",
              "\n",
              "    [theme=dark] .colab-df-convert {\n",
              "      background-color: #3B4455;\n",
              "      fill: #D2E3FC;\n",
              "    }\n",
              "\n",
              "    [theme=dark] .colab-df-convert:hover {\n",
              "      background-color: #434B5C;\n",
              "      box-shadow: 0px 1px 3px 1px rgba(0, 0, 0, 0.15);\n",
              "      filter: drop-shadow(0px 1px 2px rgba(0, 0, 0, 0.3));\n",
              "      fill: #FFFFFF;\n",
              "    }\n",
              "  </style>\n",
              "\n",
              "      <script>\n",
              "        const buttonEl =\n",
              "          document.querySelector('#df-c965248a-c131-4391-aa2d-19e3682b0b24 button.colab-df-convert');\n",
              "        buttonEl.style.display =\n",
              "          google.colab.kernel.accessAllowed ? 'block' : 'none';\n",
              "\n",
              "        async function convertToInteractive(key) {\n",
              "          const element = document.querySelector('#df-c965248a-c131-4391-aa2d-19e3682b0b24');\n",
              "          const dataTable =\n",
              "            await google.colab.kernel.invokeFunction('convertToInteractive',\n",
              "                                                     [key], {});\n",
              "          if (!dataTable) return;\n",
              "\n",
              "          const docLinkHtml = 'Like what you see? Visit the ' +\n",
              "            '<a target=\"_blank\" href=https://colab.research.google.com/notebooks/data_table.ipynb>data table notebook</a>'\n",
              "            + ' to learn more about interactive tables.';\n",
              "          element.innerHTML = '';\n",
              "          dataTable['output_type'] = 'display_data';\n",
              "          await google.colab.output.renderOutput(dataTable, element);\n",
              "          const docLink = document.createElement('div');\n",
              "          docLink.innerHTML = docLinkHtml;\n",
              "          element.appendChild(docLink);\n",
              "        }\n",
              "      </script>\n",
              "    </div>\n",
              "  </div>\n",
              "  "
            ]
          },
          "metadata": {},
          "execution_count": 40
        }
      ],
      "source": [
        "features"
      ]
    },
    {
      "cell_type": "code",
      "execution_count": 41,
      "metadata": {
        "colab": {
          "base_uri": "https://localhost:8080/",
          "height": 424
        },
        "id": "9M9LNUmFCFrd",
        "outputId": "3657040b-9b56-4ff1-8f0a-0396a68adb1b"
      },
      "outputs": [
        {
          "output_type": "execute_result",
          "data": {
            "text/plain": [
              "       h1n1_vaccine\n",
              "0                 0\n",
              "1                 0\n",
              "2                 0\n",
              "3                 0\n",
              "4                 0\n",
              "...             ...\n",
              "26702             0\n",
              "26703             0\n",
              "26704             0\n",
              "26705             0\n",
              "26706             0\n",
              "\n",
              "[26707 rows x 1 columns]"
            ],
            "text/html": [
              "\n",
              "  <div id=\"df-616aa639-962f-45c7-8f06-214c16dd176b\">\n",
              "    <div class=\"colab-df-container\">\n",
              "      <div>\n",
              "<style scoped>\n",
              "    .dataframe tbody tr th:only-of-type {\n",
              "        vertical-align: middle;\n",
              "    }\n",
              "\n",
              "    .dataframe tbody tr th {\n",
              "        vertical-align: top;\n",
              "    }\n",
              "\n",
              "    .dataframe thead th {\n",
              "        text-align: right;\n",
              "    }\n",
              "</style>\n",
              "<table border=\"1\" class=\"dataframe\">\n",
              "  <thead>\n",
              "    <tr style=\"text-align: right;\">\n",
              "      <th></th>\n",
              "      <th>h1n1_vaccine</th>\n",
              "    </tr>\n",
              "  </thead>\n",
              "  <tbody>\n",
              "    <tr>\n",
              "      <th>0</th>\n",
              "      <td>0</td>\n",
              "    </tr>\n",
              "    <tr>\n",
              "      <th>1</th>\n",
              "      <td>0</td>\n",
              "    </tr>\n",
              "    <tr>\n",
              "      <th>2</th>\n",
              "      <td>0</td>\n",
              "    </tr>\n",
              "    <tr>\n",
              "      <th>3</th>\n",
              "      <td>0</td>\n",
              "    </tr>\n",
              "    <tr>\n",
              "      <th>4</th>\n",
              "      <td>0</td>\n",
              "    </tr>\n",
              "    <tr>\n",
              "      <th>...</th>\n",
              "      <td>...</td>\n",
              "    </tr>\n",
              "    <tr>\n",
              "      <th>26702</th>\n",
              "      <td>0</td>\n",
              "    </tr>\n",
              "    <tr>\n",
              "      <th>26703</th>\n",
              "      <td>0</td>\n",
              "    </tr>\n",
              "    <tr>\n",
              "      <th>26704</th>\n",
              "      <td>0</td>\n",
              "    </tr>\n",
              "    <tr>\n",
              "      <th>26705</th>\n",
              "      <td>0</td>\n",
              "    </tr>\n",
              "    <tr>\n",
              "      <th>26706</th>\n",
              "      <td>0</td>\n",
              "    </tr>\n",
              "  </tbody>\n",
              "</table>\n",
              "<p>26707 rows × 1 columns</p>\n",
              "</div>\n",
              "      <button class=\"colab-df-convert\" onclick=\"convertToInteractive('df-616aa639-962f-45c7-8f06-214c16dd176b')\"\n",
              "              title=\"Convert this dataframe to an interactive table.\"\n",
              "              style=\"display:none;\">\n",
              "        \n",
              "  <svg xmlns=\"http://www.w3.org/2000/svg\" height=\"24px\"viewBox=\"0 0 24 24\"\n",
              "       width=\"24px\">\n",
              "    <path d=\"M0 0h24v24H0V0z\" fill=\"none\"/>\n",
              "    <path d=\"M18.56 5.44l.94 2.06.94-2.06 2.06-.94-2.06-.94-.94-2.06-.94 2.06-2.06.94zm-11 1L8.5 8.5l.94-2.06 2.06-.94-2.06-.94L8.5 2.5l-.94 2.06-2.06.94zm10 10l.94 2.06.94-2.06 2.06-.94-2.06-.94-.94-2.06-.94 2.06-2.06.94z\"/><path d=\"M17.41 7.96l-1.37-1.37c-.4-.4-.92-.59-1.43-.59-.52 0-1.04.2-1.43.59L10.3 9.45l-7.72 7.72c-.78.78-.78 2.05 0 2.83L4 21.41c.39.39.9.59 1.41.59.51 0 1.02-.2 1.41-.59l7.78-7.78 2.81-2.81c.8-.78.8-2.07 0-2.86zM5.41 20L4 18.59l7.72-7.72 1.47 1.35L5.41 20z\"/>\n",
              "  </svg>\n",
              "      </button>\n",
              "      \n",
              "  <style>\n",
              "    .colab-df-container {\n",
              "      display:flex;\n",
              "      flex-wrap:wrap;\n",
              "      gap: 12px;\n",
              "    }\n",
              "\n",
              "    .colab-df-convert {\n",
              "      background-color: #E8F0FE;\n",
              "      border: none;\n",
              "      border-radius: 50%;\n",
              "      cursor: pointer;\n",
              "      display: none;\n",
              "      fill: #1967D2;\n",
              "      height: 32px;\n",
              "      padding: 0 0 0 0;\n",
              "      width: 32px;\n",
              "    }\n",
              "\n",
              "    .colab-df-convert:hover {\n",
              "      background-color: #E2EBFA;\n",
              "      box-shadow: 0px 1px 2px rgba(60, 64, 67, 0.3), 0px 1px 3px 1px rgba(60, 64, 67, 0.15);\n",
              "      fill: #174EA6;\n",
              "    }\n",
              "\n",
              "    [theme=dark] .colab-df-convert {\n",
              "      background-color: #3B4455;\n",
              "      fill: #D2E3FC;\n",
              "    }\n",
              "\n",
              "    [theme=dark] .colab-df-convert:hover {\n",
              "      background-color: #434B5C;\n",
              "      box-shadow: 0px 1px 3px 1px rgba(0, 0, 0, 0.15);\n",
              "      filter: drop-shadow(0px 1px 2px rgba(0, 0, 0, 0.3));\n",
              "      fill: #FFFFFF;\n",
              "    }\n",
              "  </style>\n",
              "\n",
              "      <script>\n",
              "        const buttonEl =\n",
              "          document.querySelector('#df-616aa639-962f-45c7-8f06-214c16dd176b button.colab-df-convert');\n",
              "        buttonEl.style.display =\n",
              "          google.colab.kernel.accessAllowed ? 'block' : 'none';\n",
              "\n",
              "        async function convertToInteractive(key) {\n",
              "          const element = document.querySelector('#df-616aa639-962f-45c7-8f06-214c16dd176b');\n",
              "          const dataTable =\n",
              "            await google.colab.kernel.invokeFunction('convertToInteractive',\n",
              "                                                     [key], {});\n",
              "          if (!dataTable) return;\n",
              "\n",
              "          const docLinkHtml = 'Like what you see? Visit the ' +\n",
              "            '<a target=\"_blank\" href=https://colab.research.google.com/notebooks/data_table.ipynb>data table notebook</a>'\n",
              "            + ' to learn more about interactive tables.';\n",
              "          element.innerHTML = '';\n",
              "          dataTable['output_type'] = 'display_data';\n",
              "          await google.colab.output.renderOutput(dataTable, element);\n",
              "          const docLink = document.createElement('div');\n",
              "          docLink.innerHTML = docLinkHtml;\n",
              "          element.appendChild(docLink);\n",
              "        }\n",
              "      </script>\n",
              "    </div>\n",
              "  </div>\n",
              "  "
            ]
          },
          "metadata": {},
          "execution_count": 41
        }
      ],
      "source": [
        "labels"
      ]
    },
    {
      "cell_type": "code",
      "execution_count": 42,
      "metadata": {
        "id": "DL3AqshOCFrf"
      },
      "outputs": [],
      "source": [
        "#Checking The Shape of dataset"
      ]
    },
    {
      "cell_type": "code",
      "execution_count": 43,
      "metadata": {
        "colab": {
          "base_uri": "https://localhost:8080/"
        },
        "id": "iIg0zy5LCFrg",
        "outputId": "5014a9d1-46a1-4f3b-b1f2-f3520925698f"
      },
      "outputs": [
        {
          "output_type": "execute_result",
          "data": {
            "text/plain": [
              "(26707, 33)"
            ]
          },
          "metadata": {},
          "execution_count": 43
        }
      ],
      "source": [
        "features.shape"
      ]
    },
    {
      "cell_type": "code",
      "execution_count": 44,
      "metadata": {
        "id": "RAOxtuSxCFri"
      },
      "outputs": [],
      "source": [
        "#There are 33 features so either we should do PCA or feature selection\n",
        "#PCA is the most widely used tool in exploratory data analysis and in machine learning for predictive models."
      ]
    },
    {
      "cell_type": "code",
      "execution_count": 45,
      "metadata": {
        "colab": {
          "base_uri": "https://localhost:8080/"
        },
        "id": "v5clfLQPCFrj",
        "outputId": "459e7f3e-b6b3-4ad3-9079-c43c53a5f0fa"
      },
      "outputs": [
        {
          "output_type": "execute_result",
          "data": {
            "text/plain": [
              "Index(['unique_id', 'h1n1_worry', 'h1n1_awareness', 'antiviral_medication',\n",
              "       'contact_avoidance', 'bought_face_mask', 'wash_hands_frequently',\n",
              "       'avoid_large_gatherings', 'reduced_outside_home_cont',\n",
              "       'avoid_touch_face', 'dr_recc_h1n1_vacc', 'dr_recc_seasonal_vacc',\n",
              "       'chronic_medic_condition', 'cont_child_undr_6_mnths',\n",
              "       'is_health_worker', 'has_health_insur', 'is_h1n1_vacc_effective',\n",
              "       'is_h1n1_risky', 'sick_from_h1n1_vacc', 'is_seas_vacc_effective',\n",
              "       'is_seas_risky', 'sick_from_seas_vacc', 'age_bracket', 'qualification',\n",
              "       'race', 'sex', 'income_level', 'marital_status', 'housing_status',\n",
              "       'employment', 'census_msa', 'no_of_adults', 'no_of_children'],\n",
              "      dtype='object')"
            ]
          },
          "metadata": {},
          "execution_count": 45
        }
      ],
      "source": [
        "features.columns"
      ]
    },
    {
      "cell_type": "code",
      "execution_count": 46,
      "metadata": {
        "colab": {
          "base_uri": "https://localhost:8080/"
        },
        "id": "prOKanlACFrl",
        "outputId": "86d632a9-f76f-487a-ba0a-a412dc75e62b"
      },
      "outputs": [
        {
          "output_type": "execute_result",
          "data": {
            "text/plain": [
              "(26707, 1)"
            ]
          },
          "metadata": {},
          "execution_count": 46
        }
      ],
      "source": [
        "labels.shape"
      ]
    },
    {
      "cell_type": "code",
      "execution_count": 47,
      "metadata": {
        "colab": {
          "base_uri": "https://localhost:8080/"
        },
        "id": "K9Se8lKZCFrn",
        "outputId": "7449735c-30fa-43dd-c4d3-0765d12c730f"
      },
      "outputs": [
        {
          "output_type": "execute_result",
          "data": {
            "text/plain": [
              "Index(['h1n1_vaccine'], dtype='object')"
            ]
          },
          "metadata": {},
          "execution_count": 47
        }
      ],
      "source": [
        "labels.columns"
      ]
    },
    {
      "cell_type": "code",
      "execution_count": 48,
      "metadata": {
        "id": "aSb7cTFkCFrq"
      },
      "outputs": [],
      "source": [
        "#Checking the Datatype"
      ]
    },
    {
      "cell_type": "code",
      "execution_count": 49,
      "metadata": {
        "colab": {
          "base_uri": "https://localhost:8080/"
        },
        "id": "gxmDxGl8CFrr",
        "outputId": "f0ea9a0b-7799-4c96-856b-0106f940d962"
      },
      "outputs": [
        {
          "output_type": "stream",
          "name": "stdout",
          "text": [
            "<class 'pandas.core.frame.DataFrame'>\n",
            "RangeIndex: 26707 entries, 0 to 26706\n",
            "Data columns (total 33 columns):\n",
            " #   Column                     Non-Null Count  Dtype  \n",
            "---  ------                     --------------  -----  \n",
            " 0   unique_id                  26707 non-null  int64  \n",
            " 1   h1n1_worry                 26615 non-null  float64\n",
            " 2   h1n1_awareness             26591 non-null  float64\n",
            " 3   antiviral_medication       26636 non-null  float64\n",
            " 4   contact_avoidance          26499 non-null  float64\n",
            " 5   bought_face_mask           26688 non-null  float64\n",
            " 6   wash_hands_frequently      26665 non-null  float64\n",
            " 7   avoid_large_gatherings     26620 non-null  float64\n",
            " 8   reduced_outside_home_cont  26625 non-null  float64\n",
            " 9   avoid_touch_face           26579 non-null  float64\n",
            " 10  dr_recc_h1n1_vacc          24547 non-null  float64\n",
            " 11  dr_recc_seasonal_vacc      24547 non-null  float64\n",
            " 12  chronic_medic_condition    25736 non-null  float64\n",
            " 13  cont_child_undr_6_mnths    25887 non-null  float64\n",
            " 14  is_health_worker           25903 non-null  float64\n",
            " 15  has_health_insur           14433 non-null  float64\n",
            " 16  is_h1n1_vacc_effective     26316 non-null  float64\n",
            " 17  is_h1n1_risky              26319 non-null  float64\n",
            " 18  sick_from_h1n1_vacc        26312 non-null  float64\n",
            " 19  is_seas_vacc_effective     26245 non-null  float64\n",
            " 20  is_seas_risky              26193 non-null  float64\n",
            " 21  sick_from_seas_vacc        26170 non-null  float64\n",
            " 22  age_bracket                26707 non-null  object \n",
            " 23  qualification              25300 non-null  object \n",
            " 24  race                       26707 non-null  object \n",
            " 25  sex                        26707 non-null  object \n",
            " 26  income_level               22284 non-null  object \n",
            " 27  marital_status             25299 non-null  object \n",
            " 28  housing_status             24665 non-null  object \n",
            " 29  employment                 25244 non-null  object \n",
            " 30  census_msa                 26707 non-null  object \n",
            " 31  no_of_adults               26458 non-null  float64\n",
            " 32  no_of_children             26458 non-null  float64\n",
            "dtypes: float64(23), int64(1), object(9)\n",
            "memory usage: 6.7+ MB\n"
          ]
        }
      ],
      "source": [
        "features.info()"
      ]
    },
    {
      "cell_type": "code",
      "execution_count": 50,
      "metadata": {
        "colab": {
          "base_uri": "https://localhost:8080/"
        },
        "id": "U0-TpyJ4CFrt",
        "outputId": "204b0c86-666d-4aa8-c686-1b15cdbcf949"
      },
      "outputs": [
        {
          "output_type": "stream",
          "name": "stdout",
          "text": [
            "<class 'pandas.core.frame.DataFrame'>\n",
            "RangeIndex: 26707 entries, 0 to 26706\n",
            "Data columns (total 1 columns):\n",
            " #   Column        Non-Null Count  Dtype\n",
            "---  ------        --------------  -----\n",
            " 0   h1n1_vaccine  26707 non-null  int64\n",
            "dtypes: int64(1)\n",
            "memory usage: 208.8 KB\n"
          ]
        }
      ],
      "source": [
        "labels.info()"
      ]
    },
    {
      "cell_type": "code",
      "execution_count": 51,
      "metadata": {
        "id": "LkZvuzf7CFrw"
      },
      "outputs": [],
      "source": [
        "#Checking for duplicates in dataset"
      ]
    },
    {
      "cell_type": "code",
      "execution_count": 52,
      "metadata": {
        "colab": {
          "base_uri": "https://localhost:8080/"
        },
        "id": "pfumNinPCFrx",
        "outputId": "4e192dd8-b34b-434f-be95-96045e1ed327"
      },
      "outputs": [
        {
          "output_type": "execute_result",
          "data": {
            "text/plain": [
              "0"
            ]
          },
          "metadata": {},
          "execution_count": 52
        }
      ],
      "source": [
        "features.duplicated().sum()"
      ]
    },
    {
      "cell_type": "code",
      "execution_count": 53,
      "metadata": {
        "id": "Z1I1xP5oCFry"
      },
      "outputs": [],
      "source": [
        "#There no duplicates in dataset"
      ]
    },
    {
      "cell_type": "code",
      "execution_count": 54,
      "metadata": {
        "id": "kNHAWP4uCFr0"
      },
      "outputs": [],
      "source": [
        "#Checking for missing values in dataset"
      ]
    },
    {
      "cell_type": "code",
      "execution_count": 55,
      "metadata": {
        "colab": {
          "base_uri": "https://localhost:8080/"
        },
        "id": "S8P5f_rICFr1",
        "outputId": "72a4b89e-08cb-4d23-cef4-871e29a8ceb8"
      },
      "outputs": [
        {
          "output_type": "execute_result",
          "data": {
            "text/plain": [
              "unique_id                        0\n",
              "h1n1_worry                      92\n",
              "h1n1_awareness                 116\n",
              "antiviral_medication            71\n",
              "contact_avoidance              208\n",
              "bought_face_mask                19\n",
              "wash_hands_frequently           42\n",
              "avoid_large_gatherings          87\n",
              "reduced_outside_home_cont       82\n",
              "avoid_touch_face               128\n",
              "dr_recc_h1n1_vacc             2160\n",
              "dr_recc_seasonal_vacc         2160\n",
              "chronic_medic_condition        971\n",
              "cont_child_undr_6_mnths        820\n",
              "is_health_worker               804\n",
              "has_health_insur             12274\n",
              "is_h1n1_vacc_effective         391\n",
              "is_h1n1_risky                  388\n",
              "sick_from_h1n1_vacc            395\n",
              "is_seas_vacc_effective         462\n",
              "is_seas_risky                  514\n",
              "sick_from_seas_vacc            537\n",
              "age_bracket                      0\n",
              "qualification                 1407\n",
              "race                             0\n",
              "sex                              0\n",
              "income_level                  4423\n",
              "marital_status                1408\n",
              "housing_status                2042\n",
              "employment                    1463\n",
              "census_msa                       0\n",
              "no_of_adults                   249\n",
              "no_of_children                 249\n",
              "dtype: int64"
            ]
          },
          "metadata": {},
          "execution_count": 55
        }
      ],
      "source": [
        "features.isnull().sum()"
      ]
    },
    {
      "cell_type": "code",
      "execution_count": 56,
      "metadata": {
        "id": "dJrvauMPCFr3"
      },
      "outputs": [],
      "source": [
        "#There are lots of missing value so we need to impute them"
      ]
    },
    {
      "cell_type": "code",
      "execution_count": 57,
      "metadata": {
        "colab": {
          "base_uri": "https://localhost:8080/"
        },
        "id": "W9keBN3UCFr4",
        "outputId": "2dd4a031-5ee1-4dea-fedf-bfa3cf79d975"
      },
      "outputs": [
        {
          "output_type": "execute_result",
          "data": {
            "text/plain": [
              "h1n1_vaccine    0\n",
              "dtype: int64"
            ]
          },
          "metadata": {},
          "execution_count": 57
        }
      ],
      "source": [
        "labels.isnull().sum()"
      ]
    },
    {
      "cell_type": "code",
      "execution_count": 58,
      "metadata": {
        "id": "81kUJLpMCFr6"
      },
      "outputs": [],
      "source": [
        "#Filling the missing values"
      ]
    },
    {
      "cell_type": "code",
      "execution_count": 59,
      "metadata": {
        "id": "xnJm6twACFr6"
      },
      "outputs": [],
      "source": [
        "# For float fill missing values with the mean"
      ]
    },
    {
      "cell_type": "code",
      "execution_count": 60,
      "metadata": {
        "id": "gV4cOSA_CFr7"
      },
      "outputs": [],
      "source": [
        "features = features.fillna(features.mean())\n",
        "features = round(features)"
      ]
    },
    {
      "cell_type": "code",
      "execution_count": 61,
      "metadata": {
        "id": "xRcFTQAhCFr9"
      },
      "outputs": [],
      "source": [
        "# For string fill missing value with 'No Category'"
      ]
    },
    {
      "cell_type": "code",
      "execution_count": 62,
      "metadata": {
        "id": "05ocFJDsCFr-"
      },
      "outputs": [],
      "source": [
        "features = features.fillna('No Category')"
      ]
    },
    {
      "cell_type": "code",
      "execution_count": 63,
      "metadata": {
        "colab": {
          "base_uri": "https://localhost:8080/"
        },
        "id": "SORBbr3lCFr_",
        "outputId": "da7313ad-852a-492e-a587-2e60bd64cdeb"
      },
      "outputs": [
        {
          "output_type": "execute_result",
          "data": {
            "text/plain": [
              "unique_id                    0\n",
              "h1n1_worry                   0\n",
              "h1n1_awareness               0\n",
              "antiviral_medication         0\n",
              "contact_avoidance            0\n",
              "bought_face_mask             0\n",
              "wash_hands_frequently        0\n",
              "avoid_large_gatherings       0\n",
              "reduced_outside_home_cont    0\n",
              "avoid_touch_face             0\n",
              "dr_recc_h1n1_vacc            0\n",
              "dr_recc_seasonal_vacc        0\n",
              "chronic_medic_condition      0\n",
              "cont_child_undr_6_mnths      0\n",
              "is_health_worker             0\n",
              "has_health_insur             0\n",
              "is_h1n1_vacc_effective       0\n",
              "is_h1n1_risky                0\n",
              "sick_from_h1n1_vacc          0\n",
              "is_seas_vacc_effective       0\n",
              "is_seas_risky                0\n",
              "sick_from_seas_vacc          0\n",
              "age_bracket                  0\n",
              "qualification                0\n",
              "race                         0\n",
              "sex                          0\n",
              "income_level                 0\n",
              "marital_status               0\n",
              "housing_status               0\n",
              "employment                   0\n",
              "census_msa                   0\n",
              "no_of_adults                 0\n",
              "no_of_children               0\n",
              "dtype: int64"
            ]
          },
          "metadata": {},
          "execution_count": 63
        }
      ],
      "source": [
        "features.isnull().sum()"
      ]
    },
    {
      "cell_type": "code",
      "execution_count": 64,
      "metadata": {
        "id": "_Cm-pwJQCFsB"
      },
      "outputs": [],
      "source": [
        "#Finding the unique values of features"
      ]
    },
    {
      "cell_type": "code",
      "execution_count": 65,
      "metadata": {
        "id": "IRMapuAYCFsC"
      },
      "outputs": [],
      "source": [
        "# For Datatype = float"
      ]
    },
    {
      "cell_type": "code",
      "execution_count": 66,
      "metadata": {
        "colab": {
          "base_uri": "https://localhost:8080/"
        },
        "id": "fCxzkxUICFsD",
        "outputId": "7a9927d8-ecba-46a9-d1da-b07e6619e7fa"
      },
      "outputs": [
        {
          "output_type": "stream",
          "name": "stdout",
          "text": [
            "h1n1_worry\n",
            "[1. 3. 2. 0.]\n"
          ]
        }
      ],
      "source": [
        "print(\"h1n1_worry\")\n",
        "print(features.h1n1_worry.unique())"
      ]
    },
    {
      "cell_type": "code",
      "execution_count": 67,
      "metadata": {
        "colab": {
          "base_uri": "https://localhost:8080/"
        },
        "id": "dDk4CJHlCFsE",
        "outputId": "fddda8b2-687f-4996-de77-4b5dda892637"
      },
      "outputs": [
        {
          "output_type": "stream",
          "name": "stdout",
          "text": [
            "h1n1_awareness\n",
            "[0. 2. 1.]\n"
          ]
        }
      ],
      "source": [
        "print(\"h1n1_awareness\")\n",
        "print(features.h1n1_awareness.unique())"
      ]
    },
    {
      "cell_type": "code",
      "execution_count": 68,
      "metadata": {
        "colab": {
          "base_uri": "https://localhost:8080/"
        },
        "id": "_Pr302OQCFsG",
        "outputId": "649c28d3-601f-4bdd-b3e6-4872e609ac8c"
      },
      "outputs": [
        {
          "output_type": "stream",
          "name": "stdout",
          "text": [
            "antiviral_medication\n",
            "[0. 1.]\n"
          ]
        }
      ],
      "source": [
        "print(\"antiviral_medication\")\n",
        "print(features.antiviral_medication.unique())"
      ]
    },
    {
      "cell_type": "code",
      "execution_count": 69,
      "metadata": {
        "colab": {
          "base_uri": "https://localhost:8080/"
        },
        "id": "oGToG6uSCFsH",
        "outputId": "75f47f48-ffc6-4bdb-b37d-fb37a9c60557"
      },
      "outputs": [
        {
          "output_type": "stream",
          "name": "stdout",
          "text": [
            "contact_avoidance\n",
            "[0. 1.]\n"
          ]
        }
      ],
      "source": [
        "print(\"contact_avoidance\")\n",
        "print(features.contact_avoidance.unique())"
      ]
    },
    {
      "cell_type": "code",
      "execution_count": 70,
      "metadata": {
        "colab": {
          "base_uri": "https://localhost:8080/"
        },
        "id": "_Kuw_-ITCFsJ",
        "outputId": "50db6416-26cf-413d-bb36-767232d85c8b"
      },
      "outputs": [
        {
          "output_type": "stream",
          "name": "stdout",
          "text": [
            "bought_face_mask\n",
            "[0. 1.]\n"
          ]
        }
      ],
      "source": [
        "print(\"bought_face_mask\")\n",
        "print(features.bought_face_mask.unique())"
      ]
    },
    {
      "cell_type": "code",
      "execution_count": 71,
      "metadata": {
        "colab": {
          "base_uri": "https://localhost:8080/"
        },
        "id": "dqcbsgA5CFsK",
        "outputId": "f0bc40cd-2c58-4899-ca58-e3f5b7315dce"
      },
      "outputs": [
        {
          "output_type": "stream",
          "name": "stdout",
          "text": [
            "wash_hands_frequently\n",
            "[0. 1.]\n"
          ]
        }
      ],
      "source": [
        "print(\"wash_hands_frequently\")\n",
        "print(features.wash_hands_frequently.unique())"
      ]
    },
    {
      "cell_type": "code",
      "execution_count": 72,
      "metadata": {
        "colab": {
          "base_uri": "https://localhost:8080/"
        },
        "id": "lKN2aCg4CFsL",
        "outputId": "39e1f8e9-71a9-421f-cc66-2d428e282444"
      },
      "outputs": [
        {
          "output_type": "stream",
          "name": "stdout",
          "text": [
            "avoid_large_gatherings\n",
            "[0. 1.]\n"
          ]
        }
      ],
      "source": [
        "print(\"avoid_large_gatherings\")\n",
        "print(features.avoid_large_gatherings.unique())"
      ]
    },
    {
      "cell_type": "code",
      "execution_count": 73,
      "metadata": {
        "colab": {
          "base_uri": "https://localhost:8080/"
        },
        "id": "r1bQ2C2UCFsN",
        "outputId": "873a20a7-6ff4-4f73-e839-7d74a43e5d6b"
      },
      "outputs": [
        {
          "output_type": "stream",
          "name": "stdout",
          "text": [
            "reduced_outside_home_cont\n",
            "[1. 0.]\n"
          ]
        }
      ],
      "source": [
        "print(\"reduced_outside_home_cont\")\n",
        "print(features.reduced_outside_home_cont.unique())"
      ]
    },
    {
      "cell_type": "code",
      "execution_count": 74,
      "metadata": {
        "colab": {
          "base_uri": "https://localhost:8080/"
        },
        "id": "i1ZIEqGtCFsO",
        "outputId": "10b84ab0-28fc-4cb4-b16c-26dea05e098c"
      },
      "outputs": [
        {
          "output_type": "stream",
          "name": "stdout",
          "text": [
            "avoid_touch_face\n",
            "[1. 0.]\n"
          ]
        }
      ],
      "source": [
        "print(\"avoid_touch_face\")\n",
        "print(features.avoid_touch_face.unique())"
      ]
    },
    {
      "cell_type": "code",
      "execution_count": 75,
      "metadata": {
        "colab": {
          "base_uri": "https://localhost:8080/"
        },
        "id": "na_WKV4lCFsP",
        "outputId": "9f93dd24-5bf6-4ed5-ef50-4613ad85b810"
      },
      "outputs": [
        {
          "output_type": "stream",
          "name": "stdout",
          "text": [
            "dr_recc_h1n1_vacc\n",
            "[0. 1.]\n"
          ]
        }
      ],
      "source": [
        "print(\"dr_recc_h1n1_vacc\")\n",
        "print(features.dr_recc_h1n1_vacc.unique())"
      ]
    },
    {
      "cell_type": "code",
      "execution_count": 76,
      "metadata": {
        "colab": {
          "base_uri": "https://localhost:8080/"
        },
        "id": "j2GG9HMZCFsQ",
        "outputId": "f9473c2a-3fb0-472e-9f59-8db71573323e"
      },
      "outputs": [
        {
          "output_type": "stream",
          "name": "stdout",
          "text": [
            "dr_recc_seasonal_vacc\n",
            "[0. 1.]\n"
          ]
        }
      ],
      "source": [
        "print(\"dr_recc_seasonal_vacc\")\n",
        "print(features.dr_recc_seasonal_vacc.unique())"
      ]
    },
    {
      "cell_type": "code",
      "execution_count": 77,
      "metadata": {
        "colab": {
          "base_uri": "https://localhost:8080/"
        },
        "id": "LugGbnOwCFsR",
        "outputId": "02f98f08-82b7-45e0-89da-2b41995472df"
      },
      "outputs": [
        {
          "output_type": "stream",
          "name": "stdout",
          "text": [
            "chronic_medic_condition\n",
            "[0. 1.]\n"
          ]
        }
      ],
      "source": [
        "print(\"chronic_medic_condition\")\n",
        "print(features.chronic_medic_condition.unique())"
      ]
    },
    {
      "cell_type": "code",
      "execution_count": 78,
      "metadata": {
        "colab": {
          "base_uri": "https://localhost:8080/"
        },
        "id": "Y3w_wslICFsS",
        "outputId": "c71264e9-0c9f-418e-cfc1-5822e02fc32e"
      },
      "outputs": [
        {
          "output_type": "stream",
          "name": "stdout",
          "text": [
            "cont_child_undr_6_mnths\n",
            "[0. 1.]\n"
          ]
        }
      ],
      "source": [
        "print(\"cont_child_undr_6_mnths\")\n",
        "print(features.cont_child_undr_6_mnths.unique())"
      ]
    },
    {
      "cell_type": "code",
      "execution_count": 79,
      "metadata": {
        "colab": {
          "base_uri": "https://localhost:8080/"
        },
        "id": "EigI7Yq4CFsT",
        "outputId": "74371011-9614-4031-ebfe-169720ac1963"
      },
      "outputs": [
        {
          "output_type": "stream",
          "name": "stdout",
          "text": [
            "is_health_worker\n",
            "[0. 1.]\n"
          ]
        }
      ],
      "source": [
        "print(\"is_health_worker\")\n",
        "print(features.is_health_worker.unique())"
      ]
    },
    {
      "cell_type": "code",
      "execution_count": 80,
      "metadata": {
        "colab": {
          "base_uri": "https://localhost:8080/"
        },
        "id": "2oW6K9I8CFsU",
        "outputId": "1159be67-5c54-429c-b63d-833ec7c7da31"
      },
      "outputs": [
        {
          "output_type": "stream",
          "name": "stdout",
          "text": [
            "has_health_insur\n",
            "[1. 0.]\n"
          ]
        }
      ],
      "source": [
        "print(\"has_health_insur\")\n",
        "print(features.has_health_insur.unique())"
      ]
    },
    {
      "cell_type": "code",
      "execution_count": 81,
      "metadata": {
        "colab": {
          "base_uri": "https://localhost:8080/"
        },
        "id": "Ad4Tj9PLCFsV",
        "outputId": "53c0baab-a404-4afc-c147-442aafde9138"
      },
      "outputs": [
        {
          "output_type": "stream",
          "name": "stdout",
          "text": [
            "is_h1n1_vacc_effective\n",
            "[3. 5. 4. 2. 1.]\n"
          ]
        }
      ],
      "source": [
        "print(\"is_h1n1_vacc_effective\")\n",
        "print(features.is_h1n1_vacc_effective.unique())"
      ]
    },
    {
      "cell_type": "code",
      "execution_count": 82,
      "metadata": {
        "colab": {
          "base_uri": "https://localhost:8080/"
        },
        "id": "BYWfE7X7CFsW",
        "outputId": "c763c399-5a59-4e4e-c0fd-ef0490419009"
      },
      "outputs": [
        {
          "output_type": "stream",
          "name": "stdout",
          "text": [
            "is_h1n1_risky\n",
            "[1. 4. 3. 2. 5.]\n"
          ]
        }
      ],
      "source": [
        "print(\"is_h1n1_risky\")\n",
        "print(features.is_h1n1_risky.unique())"
      ]
    },
    {
      "cell_type": "code",
      "execution_count": 83,
      "metadata": {
        "colab": {
          "base_uri": "https://localhost:8080/"
        },
        "id": "yJyrDftTCFsX",
        "outputId": "1e8986f4-a219-48ba-9096-a5bd747d7eee"
      },
      "outputs": [
        {
          "output_type": "stream",
          "name": "stdout",
          "text": [
            "sick_from_h1n1_vacc\n",
            "[2. 4. 1. 5. 3.]\n"
          ]
        }
      ],
      "source": [
        "print(\"sick_from_h1n1_vacc\")\n",
        "print(features.sick_from_h1n1_vacc.unique())"
      ]
    },
    {
      "cell_type": "code",
      "execution_count": 84,
      "metadata": {
        "colab": {
          "base_uri": "https://localhost:8080/"
        },
        "id": "kMz6D4dfCFsZ",
        "outputId": "ee628dcd-c00f-4e5e-b2f5-91e25fc3b741"
      },
      "outputs": [
        {
          "output_type": "stream",
          "name": "stdout",
          "text": [
            "is_seas_vacc_effective\n",
            "[2. 4. 5. 3. 1.]\n"
          ]
        }
      ],
      "source": [
        "print(\"is_seas_vacc_effective\")\n",
        "print(features.is_seas_vacc_effective.unique())"
      ]
    },
    {
      "cell_type": "code",
      "execution_count": 85,
      "metadata": {
        "colab": {
          "base_uri": "https://localhost:8080/"
        },
        "id": "yIpALEj_CFsa",
        "outputId": "dbfba60d-51ce-4d12-acab-5dc9d86fddb0"
      },
      "outputs": [
        {
          "output_type": "stream",
          "name": "stdout",
          "text": [
            "is_seas_risky\n",
            "[1. 2. 4. 3. 5.]\n"
          ]
        }
      ],
      "source": [
        "print(\"is_seas_risky\")\n",
        "print(features.is_seas_risky.unique())"
      ]
    },
    {
      "cell_type": "code",
      "execution_count": 86,
      "metadata": {
        "colab": {
          "base_uri": "https://localhost:8080/"
        },
        "id": "voCt6tj2CFsc",
        "outputId": "b91277a0-688d-4f78-a503-6a1c6ad99e90"
      },
      "outputs": [
        {
          "output_type": "stream",
          "name": "stdout",
          "text": [
            "sick_from_seas_vacc\n",
            "[2. 4. 1. 5. 3.]\n"
          ]
        }
      ],
      "source": [
        "print(\"sick_from_seas_vacc\")\n",
        "print(features.sick_from_seas_vacc.unique())"
      ]
    },
    {
      "cell_type": "code",
      "execution_count": 87,
      "metadata": {
        "colab": {
          "base_uri": "https://localhost:8080/"
        },
        "id": "GMlC2yNOCFse",
        "outputId": "a4035926-0fef-4c0e-dcce-ef9f470d73e2"
      },
      "outputs": [
        {
          "output_type": "stream",
          "name": "stdout",
          "text": [
            "no_of_adults\n",
            "[0. 2. 1. 3.]\n"
          ]
        }
      ],
      "source": [
        "print(\"no_of_adults\")\n",
        "print(features.no_of_adults.unique())"
      ]
    },
    {
      "cell_type": "code",
      "execution_count": 88,
      "metadata": {
        "colab": {
          "base_uri": "https://localhost:8080/"
        },
        "id": "AVAttzgICFsf",
        "outputId": "7d253232-a670-4e9e-fdaa-a727f1069368"
      },
      "outputs": [
        {
          "output_type": "stream",
          "name": "stdout",
          "text": [
            "no_of_children\n",
            "[0. 3. 2. 1.]\n"
          ]
        }
      ],
      "source": [
        "print(\"no_of_children\")\n",
        "print(features.no_of_children.unique())"
      ]
    },
    {
      "cell_type": "code",
      "execution_count": 89,
      "metadata": {
        "id": "GSgAm-o8CFsg"
      },
      "outputs": [],
      "source": [
        "# For Datatype = object"
      ]
    },
    {
      "cell_type": "code",
      "execution_count": 90,
      "metadata": {
        "colab": {
          "base_uri": "https://localhost:8080/"
        },
        "id": "e4n35FyRCFsh",
        "outputId": "332b05d3-2324-4ce1-d35c-11be4d4dbfe9"
      },
      "outputs": [
        {
          "output_type": "stream",
          "name": "stdout",
          "text": [
            "age_bracket\n",
            "['55 - 64 Years' '35 - 44 Years' '18 - 34 Years' '65+ Years'\n",
            " '45 - 54 Years']\n"
          ]
        }
      ],
      "source": [
        "print(\"age_bracket\")\n",
        "print(features.age_bracket.unique())"
      ]
    },
    {
      "cell_type": "code",
      "execution_count": 91,
      "metadata": {
        "colab": {
          "base_uri": "https://localhost:8080/"
        },
        "id": "SjoHe0mACFsi",
        "outputId": "b9909670-e3b0-435c-9b21-58cd83fd49f4"
      },
      "outputs": [
        {
          "output_type": "stream",
          "name": "stdout",
          "text": [
            "qualification\n",
            "['< 12 Years' '12 Years' 'College Graduate' 'Some College' 'No Category']\n"
          ]
        }
      ],
      "source": [
        "print(\"qualification\")\n",
        "print(features.qualification.unique())"
      ]
    },
    {
      "cell_type": "code",
      "execution_count": 92,
      "metadata": {
        "colab": {
          "base_uri": "https://localhost:8080/"
        },
        "id": "GXAUR3eGCFsj",
        "outputId": "dd6b3855-be1f-4aef-c3f0-7fab5ae92e43"
      },
      "outputs": [
        {
          "output_type": "stream",
          "name": "stdout",
          "text": [
            "race\n",
            "['White' 'Black' 'Other or Multiple' 'Hispanic']\n"
          ]
        }
      ],
      "source": [
        "print(\"race\")\n",
        "print(features.race.unique())"
      ]
    },
    {
      "cell_type": "code",
      "execution_count": 93,
      "metadata": {
        "colab": {
          "base_uri": "https://localhost:8080/"
        },
        "id": "tpJOH78ICFsk",
        "outputId": "2d7f1fa9-3d21-424a-89cf-b2ce5b45bbd3"
      },
      "outputs": [
        {
          "output_type": "stream",
          "name": "stdout",
          "text": [
            "sex\n",
            "['Female' 'Male']\n"
          ]
        }
      ],
      "source": [
        "print(\"sex\")\n",
        "print(features.sex.unique())"
      ]
    },
    {
      "cell_type": "code",
      "execution_count": 94,
      "metadata": {
        "colab": {
          "base_uri": "https://localhost:8080/"
        },
        "id": "d9Qk3rUaCFsl",
        "outputId": "195c9a95-78bd-4588-f5ff-0a389c66f191"
      },
      "outputs": [
        {
          "output_type": "stream",
          "name": "stdout",
          "text": [
            "income_level\n",
            "['Below Poverty' '<= $75,000, Above Poverty' '> $75,000' 'No Category']\n"
          ]
        }
      ],
      "source": [
        "print(\"income_level\")\n",
        "print(features.income_level.unique())"
      ]
    },
    {
      "cell_type": "code",
      "execution_count": 95,
      "metadata": {
        "colab": {
          "base_uri": "https://localhost:8080/"
        },
        "id": "qs11W7RqCFsm",
        "outputId": "479c657d-a43a-4253-ca67-dcd8e14b28dc"
      },
      "outputs": [
        {
          "output_type": "stream",
          "name": "stdout",
          "text": [
            "marital_status\n",
            "['Not Married' 'Married' 'No Category']\n"
          ]
        }
      ],
      "source": [
        "print(\"marital_status\")\n",
        "print(features.marital_status.unique())"
      ]
    },
    {
      "cell_type": "code",
      "execution_count": 96,
      "metadata": {
        "colab": {
          "base_uri": "https://localhost:8080/"
        },
        "id": "H7jPap2sCFsn",
        "outputId": "4302576c-d782-4f3f-8a72-38c5a91c6e5b"
      },
      "outputs": [
        {
          "output_type": "stream",
          "name": "stdout",
          "text": [
            "housing_status\n",
            "['Own' 'Rent' 'No Category']\n"
          ]
        }
      ],
      "source": [
        "print(\"housing_status\")\n",
        "print(features.housing_status.unique())"
      ]
    },
    {
      "cell_type": "code",
      "execution_count": 97,
      "metadata": {
        "colab": {
          "base_uri": "https://localhost:8080/"
        },
        "id": "Cf4YBNHlCFso",
        "outputId": "49844710-cc76-4c18-f269-18b9cb5ef59b"
      },
      "outputs": [
        {
          "output_type": "stream",
          "name": "stdout",
          "text": [
            "employment\n",
            "['Not in Labor Force' 'Employed' 'Unemployed' 'No Category']\n"
          ]
        }
      ],
      "source": [
        "print(\"employment\")\n",
        "print(features.employment.unique())"
      ]
    },
    {
      "cell_type": "code",
      "execution_count": 98,
      "metadata": {
        "colab": {
          "base_uri": "https://localhost:8080/"
        },
        "id": "wsUqbXnHCFsp",
        "outputId": "2658356c-3528-4975-e01a-d0a90a6e79d3"
      },
      "outputs": [
        {
          "output_type": "stream",
          "name": "stdout",
          "text": [
            "census_msa\n",
            "['Non-MSA' 'MSA, Not Principle  City' 'MSA, Principle City']\n"
          ]
        }
      ],
      "source": [
        "print(\"census_msa\")\n",
        "print(features.census_msa.unique())"
      ]
    },
    {
      "cell_type": "code",
      "execution_count": 99,
      "metadata": {
        "id": "KqQMbeqmCFsr"
      },
      "outputs": [],
      "source": [
        "#Encoding the object"
      ]
    },
    {
      "cell_type": "code",
      "execution_count": 100,
      "metadata": {
        "id": "yDNjsJxCCFss"
      },
      "outputs": [],
      "source": [
        "from sklearn.preprocessing import MinMaxScaler , LabelEncoder\n"
      ]
    },
    {
      "cell_type": "code",
      "execution_count": 101,
      "metadata": {
        "id": "0T7tPkC1CFst"
      },
      "outputs": [],
      "source": [
        "enc = LabelEncoder()"
      ]
    },
    {
      "cell_type": "code",
      "execution_count": 102,
      "metadata": {
        "id": "45ppSf30CFsu"
      },
      "outputs": [],
      "source": [
        "features.age_bracket = enc.fit_transform(features.age_bracket)\n",
        "features.qualification = enc.fit_transform(features.qualification)\n",
        "features.race = enc.fit_transform(features.race)\n",
        "features.sex = enc.fit_transform(features.sex)\n",
        "features.income_level = enc.fit_transform(features.income_level)\n",
        "features.marital_status = enc.fit_transform(features.marital_status)\n",
        "features.housing_status = enc.fit_transform(features.housing_status)\n",
        "features.employment =  enc.fit_transform(features.employment)\n",
        "features.census_msa = enc.fit_transform(features.census_msa)"
      ]
    },
    {
      "cell_type": "code",
      "execution_count": 103,
      "metadata": {
        "colab": {
          "base_uri": "https://localhost:8080/"
        },
        "id": "WWWtIAOFCFsv",
        "outputId": "87a487ba-daa6-406f-f1e3-8a96720fbe7a"
      },
      "outputs": [
        {
          "output_type": "stream",
          "name": "stdout",
          "text": [
            "<class 'pandas.core.frame.DataFrame'>\n",
            "RangeIndex: 26707 entries, 0 to 26706\n",
            "Data columns (total 33 columns):\n",
            " #   Column                     Non-Null Count  Dtype  \n",
            "---  ------                     --------------  -----  \n",
            " 0   unique_id                  26707 non-null  int64  \n",
            " 1   h1n1_worry                 26707 non-null  float64\n",
            " 2   h1n1_awareness             26707 non-null  float64\n",
            " 3   antiviral_medication       26707 non-null  float64\n",
            " 4   contact_avoidance          26707 non-null  float64\n",
            " 5   bought_face_mask           26707 non-null  float64\n",
            " 6   wash_hands_frequently      26707 non-null  float64\n",
            " 7   avoid_large_gatherings     26707 non-null  float64\n",
            " 8   reduced_outside_home_cont  26707 non-null  float64\n",
            " 9   avoid_touch_face           26707 non-null  float64\n",
            " 10  dr_recc_h1n1_vacc          26707 non-null  float64\n",
            " 11  dr_recc_seasonal_vacc      26707 non-null  float64\n",
            " 12  chronic_medic_condition    26707 non-null  float64\n",
            " 13  cont_child_undr_6_mnths    26707 non-null  float64\n",
            " 14  is_health_worker           26707 non-null  float64\n",
            " 15  has_health_insur           26707 non-null  float64\n",
            " 16  is_h1n1_vacc_effective     26707 non-null  float64\n",
            " 17  is_h1n1_risky              26707 non-null  float64\n",
            " 18  sick_from_h1n1_vacc        26707 non-null  float64\n",
            " 19  is_seas_vacc_effective     26707 non-null  float64\n",
            " 20  is_seas_risky              26707 non-null  float64\n",
            " 21  sick_from_seas_vacc        26707 non-null  float64\n",
            " 22  age_bracket                26707 non-null  int64  \n",
            " 23  qualification              26707 non-null  int64  \n",
            " 24  race                       26707 non-null  int64  \n",
            " 25  sex                        26707 non-null  int64  \n",
            " 26  income_level               26707 non-null  int64  \n",
            " 27  marital_status             26707 non-null  int64  \n",
            " 28  housing_status             26707 non-null  int64  \n",
            " 29  employment                 26707 non-null  int64  \n",
            " 30  census_msa                 26707 non-null  int64  \n",
            " 31  no_of_adults               26707 non-null  float64\n",
            " 32  no_of_children             26707 non-null  float64\n",
            "dtypes: float64(23), int64(10)\n",
            "memory usage: 6.7 MB\n"
          ]
        }
      ],
      "source": [
        "features.info()"
      ]
    },
    {
      "cell_type": "code",
      "execution_count": 104,
      "metadata": {
        "colab": {
          "base_uri": "https://localhost:8080/",
          "height": 300
        },
        "id": "HAxfl9R0CFsw",
        "outputId": "f18da9da-71b1-4a9e-c1ab-dfd80e43fb26"
      },
      "outputs": [
        {
          "output_type": "execute_result",
          "data": {
            "text/plain": [
              "   unique_id  h1n1_worry  h1n1_awareness  antiviral_medication  \\\n",
              "0          0         1.0             0.0                   0.0   \n",
              "1          1         3.0             2.0                   0.0   \n",
              "2          2         1.0             1.0                   0.0   \n",
              "3          3         1.0             1.0                   0.0   \n",
              "4          4         2.0             1.0                   0.0   \n",
              "\n",
              "   contact_avoidance  bought_face_mask  wash_hands_frequently  \\\n",
              "0                0.0               0.0                    0.0   \n",
              "1                1.0               0.0                    1.0   \n",
              "2                1.0               0.0                    0.0   \n",
              "3                1.0               0.0                    1.0   \n",
              "4                1.0               0.0                    1.0   \n",
              "\n",
              "   avoid_large_gatherings  reduced_outside_home_cont  avoid_touch_face  ...  \\\n",
              "0                     0.0                        1.0               1.0  ...   \n",
              "1                     0.0                        1.0               1.0  ...   \n",
              "2                     0.0                        0.0               0.0  ...   \n",
              "3                     1.0                        0.0               0.0  ...   \n",
              "4                     1.0                        0.0               1.0  ...   \n",
              "\n",
              "   qualification  race  sex  income_level  marital_status  housing_status  \\\n",
              "0              1     3    0             2               2               1   \n",
              "1              0     3    1             2               2               2   \n",
              "2              2     3    1             0               2               1   \n",
              "3              0     3    0             2               2               2   \n",
              "4              4     3    0             0               0               1   \n",
              "\n",
              "   employment  census_msa  no_of_adults  no_of_children  \n",
              "0           2           2           0.0             0.0  \n",
              "1           0           0           0.0             0.0  \n",
              "2           0           0           2.0             0.0  \n",
              "3           2           1           0.0             0.0  \n",
              "4           0           0           1.0             0.0  \n",
              "\n",
              "[5 rows x 33 columns]"
            ],
            "text/html": [
              "\n",
              "  <div id=\"df-4cc3b996-5b12-4024-91c8-ead359db45a9\">\n",
              "    <div class=\"colab-df-container\">\n",
              "      <div>\n",
              "<style scoped>\n",
              "    .dataframe tbody tr th:only-of-type {\n",
              "        vertical-align: middle;\n",
              "    }\n",
              "\n",
              "    .dataframe tbody tr th {\n",
              "        vertical-align: top;\n",
              "    }\n",
              "\n",
              "    .dataframe thead th {\n",
              "        text-align: right;\n",
              "    }\n",
              "</style>\n",
              "<table border=\"1\" class=\"dataframe\">\n",
              "  <thead>\n",
              "    <tr style=\"text-align: right;\">\n",
              "      <th></th>\n",
              "      <th>unique_id</th>\n",
              "      <th>h1n1_worry</th>\n",
              "      <th>h1n1_awareness</th>\n",
              "      <th>antiviral_medication</th>\n",
              "      <th>contact_avoidance</th>\n",
              "      <th>bought_face_mask</th>\n",
              "      <th>wash_hands_frequently</th>\n",
              "      <th>avoid_large_gatherings</th>\n",
              "      <th>reduced_outside_home_cont</th>\n",
              "      <th>avoid_touch_face</th>\n",
              "      <th>...</th>\n",
              "      <th>qualification</th>\n",
              "      <th>race</th>\n",
              "      <th>sex</th>\n",
              "      <th>income_level</th>\n",
              "      <th>marital_status</th>\n",
              "      <th>housing_status</th>\n",
              "      <th>employment</th>\n",
              "      <th>census_msa</th>\n",
              "      <th>no_of_adults</th>\n",
              "      <th>no_of_children</th>\n",
              "    </tr>\n",
              "  </thead>\n",
              "  <tbody>\n",
              "    <tr>\n",
              "      <th>0</th>\n",
              "      <td>0</td>\n",
              "      <td>1.0</td>\n",
              "      <td>0.0</td>\n",
              "      <td>0.0</td>\n",
              "      <td>0.0</td>\n",
              "      <td>0.0</td>\n",
              "      <td>0.0</td>\n",
              "      <td>0.0</td>\n",
              "      <td>1.0</td>\n",
              "      <td>1.0</td>\n",
              "      <td>...</td>\n",
              "      <td>1</td>\n",
              "      <td>3</td>\n",
              "      <td>0</td>\n",
              "      <td>2</td>\n",
              "      <td>2</td>\n",
              "      <td>1</td>\n",
              "      <td>2</td>\n",
              "      <td>2</td>\n",
              "      <td>0.0</td>\n",
              "      <td>0.0</td>\n",
              "    </tr>\n",
              "    <tr>\n",
              "      <th>1</th>\n",
              "      <td>1</td>\n",
              "      <td>3.0</td>\n",
              "      <td>2.0</td>\n",
              "      <td>0.0</td>\n",
              "      <td>1.0</td>\n",
              "      <td>0.0</td>\n",
              "      <td>1.0</td>\n",
              "      <td>0.0</td>\n",
              "      <td>1.0</td>\n",
              "      <td>1.0</td>\n",
              "      <td>...</td>\n",
              "      <td>0</td>\n",
              "      <td>3</td>\n",
              "      <td>1</td>\n",
              "      <td>2</td>\n",
              "      <td>2</td>\n",
              "      <td>2</td>\n",
              "      <td>0</td>\n",
              "      <td>0</td>\n",
              "      <td>0.0</td>\n",
              "      <td>0.0</td>\n",
              "    </tr>\n",
              "    <tr>\n",
              "      <th>2</th>\n",
              "      <td>2</td>\n",
              "      <td>1.0</td>\n",
              "      <td>1.0</td>\n",
              "      <td>0.0</td>\n",
              "      <td>1.0</td>\n",
              "      <td>0.0</td>\n",
              "      <td>0.0</td>\n",
              "      <td>0.0</td>\n",
              "      <td>0.0</td>\n",
              "      <td>0.0</td>\n",
              "      <td>...</td>\n",
              "      <td>2</td>\n",
              "      <td>3</td>\n",
              "      <td>1</td>\n",
              "      <td>0</td>\n",
              "      <td>2</td>\n",
              "      <td>1</td>\n",
              "      <td>0</td>\n",
              "      <td>0</td>\n",
              "      <td>2.0</td>\n",
              "      <td>0.0</td>\n",
              "    </tr>\n",
              "    <tr>\n",
              "      <th>3</th>\n",
              "      <td>3</td>\n",
              "      <td>1.0</td>\n",
              "      <td>1.0</td>\n",
              "      <td>0.0</td>\n",
              "      <td>1.0</td>\n",
              "      <td>0.0</td>\n",
              "      <td>1.0</td>\n",
              "      <td>1.0</td>\n",
              "      <td>0.0</td>\n",
              "      <td>0.0</td>\n",
              "      <td>...</td>\n",
              "      <td>0</td>\n",
              "      <td>3</td>\n",
              "      <td>0</td>\n",
              "      <td>2</td>\n",
              "      <td>2</td>\n",
              "      <td>2</td>\n",
              "      <td>2</td>\n",
              "      <td>1</td>\n",
              "      <td>0.0</td>\n",
              "      <td>0.0</td>\n",
              "    </tr>\n",
              "    <tr>\n",
              "      <th>4</th>\n",
              "      <td>4</td>\n",
              "      <td>2.0</td>\n",
              "      <td>1.0</td>\n",
              "      <td>0.0</td>\n",
              "      <td>1.0</td>\n",
              "      <td>0.0</td>\n",
              "      <td>1.0</td>\n",
              "      <td>1.0</td>\n",
              "      <td>0.0</td>\n",
              "      <td>1.0</td>\n",
              "      <td>...</td>\n",
              "      <td>4</td>\n",
              "      <td>3</td>\n",
              "      <td>0</td>\n",
              "      <td>0</td>\n",
              "      <td>0</td>\n",
              "      <td>1</td>\n",
              "      <td>0</td>\n",
              "      <td>0</td>\n",
              "      <td>1.0</td>\n",
              "      <td>0.0</td>\n",
              "    </tr>\n",
              "  </tbody>\n",
              "</table>\n",
              "<p>5 rows × 33 columns</p>\n",
              "</div>\n",
              "      <button class=\"colab-df-convert\" onclick=\"convertToInteractive('df-4cc3b996-5b12-4024-91c8-ead359db45a9')\"\n",
              "              title=\"Convert this dataframe to an interactive table.\"\n",
              "              style=\"display:none;\">\n",
              "        \n",
              "  <svg xmlns=\"http://www.w3.org/2000/svg\" height=\"24px\"viewBox=\"0 0 24 24\"\n",
              "       width=\"24px\">\n",
              "    <path d=\"M0 0h24v24H0V0z\" fill=\"none\"/>\n",
              "    <path d=\"M18.56 5.44l.94 2.06.94-2.06 2.06-.94-2.06-.94-.94-2.06-.94 2.06-2.06.94zm-11 1L8.5 8.5l.94-2.06 2.06-.94-2.06-.94L8.5 2.5l-.94 2.06-2.06.94zm10 10l.94 2.06.94-2.06 2.06-.94-2.06-.94-.94-2.06-.94 2.06-2.06.94z\"/><path d=\"M17.41 7.96l-1.37-1.37c-.4-.4-.92-.59-1.43-.59-.52 0-1.04.2-1.43.59L10.3 9.45l-7.72 7.72c-.78.78-.78 2.05 0 2.83L4 21.41c.39.39.9.59 1.41.59.51 0 1.02-.2 1.41-.59l7.78-7.78 2.81-2.81c.8-.78.8-2.07 0-2.86zM5.41 20L4 18.59l7.72-7.72 1.47 1.35L5.41 20z\"/>\n",
              "  </svg>\n",
              "      </button>\n",
              "      \n",
              "  <style>\n",
              "    .colab-df-container {\n",
              "      display:flex;\n",
              "      flex-wrap:wrap;\n",
              "      gap: 12px;\n",
              "    }\n",
              "\n",
              "    .colab-df-convert {\n",
              "      background-color: #E8F0FE;\n",
              "      border: none;\n",
              "      border-radius: 50%;\n",
              "      cursor: pointer;\n",
              "      display: none;\n",
              "      fill: #1967D2;\n",
              "      height: 32px;\n",
              "      padding: 0 0 0 0;\n",
              "      width: 32px;\n",
              "    }\n",
              "\n",
              "    .colab-df-convert:hover {\n",
              "      background-color: #E2EBFA;\n",
              "      box-shadow: 0px 1px 2px rgba(60, 64, 67, 0.3), 0px 1px 3px 1px rgba(60, 64, 67, 0.15);\n",
              "      fill: #174EA6;\n",
              "    }\n",
              "\n",
              "    [theme=dark] .colab-df-convert {\n",
              "      background-color: #3B4455;\n",
              "      fill: #D2E3FC;\n",
              "    }\n",
              "\n",
              "    [theme=dark] .colab-df-convert:hover {\n",
              "      background-color: #434B5C;\n",
              "      box-shadow: 0px 1px 3px 1px rgba(0, 0, 0, 0.15);\n",
              "      filter: drop-shadow(0px 1px 2px rgba(0, 0, 0, 0.3));\n",
              "      fill: #FFFFFF;\n",
              "    }\n",
              "  </style>\n",
              "\n",
              "      <script>\n",
              "        const buttonEl =\n",
              "          document.querySelector('#df-4cc3b996-5b12-4024-91c8-ead359db45a9 button.colab-df-convert');\n",
              "        buttonEl.style.display =\n",
              "          google.colab.kernel.accessAllowed ? 'block' : 'none';\n",
              "\n",
              "        async function convertToInteractive(key) {\n",
              "          const element = document.querySelector('#df-4cc3b996-5b12-4024-91c8-ead359db45a9');\n",
              "          const dataTable =\n",
              "            await google.colab.kernel.invokeFunction('convertToInteractive',\n",
              "                                                     [key], {});\n",
              "          if (!dataTable) return;\n",
              "\n",
              "          const docLinkHtml = 'Like what you see? Visit the ' +\n",
              "            '<a target=\"_blank\" href=https://colab.research.google.com/notebooks/data_table.ipynb>data table notebook</a>'\n",
              "            + ' to learn more about interactive tables.';\n",
              "          element.innerHTML = '';\n",
              "          dataTable['output_type'] = 'display_data';\n",
              "          await google.colab.output.renderOutput(dataTable, element);\n",
              "          const docLink = document.createElement('div');\n",
              "          docLink.innerHTML = docLinkHtml;\n",
              "          element.appendChild(docLink);\n",
              "        }\n",
              "      </script>\n",
              "    </div>\n",
              "  </div>\n",
              "  "
            ]
          },
          "metadata": {},
          "execution_count": 104
        }
      ],
      "source": [
        "features.head()"
      ]
    },
    {
      "cell_type": "markdown",
      "metadata": {
        "id": "vGuePjx6CFsx"
      },
      "source": [
        "EXPLORATORY DATA ANALYSIS"
      ]
    },
    {
      "cell_type": "code",
      "execution_count": 105,
      "metadata": {
        "colab": {
          "base_uri": "https://localhost:8080/",
          "height": 394
        },
        "id": "HCjrw9hqCFs3",
        "outputId": "ddde7704-08ef-43f7-9700-02cbdfb87ed9"
      },
      "outputs": [
        {
          "output_type": "execute_result",
          "data": {
            "text/plain": [
              "          unique_id    h1n1_worry  h1n1_awareness  antiviral_medication  \\\n",
              "count  26707.000000  26707.000000    26707.000000          26707.000000   \n",
              "mean   13353.000000      1.619800        1.261392              0.048714   \n",
              "std     7709.791156      0.909016        0.617047              0.215273   \n",
              "min        0.000000      0.000000        0.000000              0.000000   \n",
              "25%     6676.500000      1.000000        1.000000              0.000000   \n",
              "50%    13353.000000      2.000000        1.000000              0.000000   \n",
              "75%    20029.500000      2.000000        2.000000              0.000000   \n",
              "max    26706.000000      3.000000        2.000000              1.000000   \n",
              "\n",
              "       contact_avoidance  bought_face_mask  wash_hands_frequently  \\\n",
              "count       26707.000000      26707.000000           26707.000000   \n",
              "mean            0.727749          0.068933               0.825888   \n",
              "std             0.445127          0.253345               0.379213   \n",
              "min             0.000000          0.000000               0.000000   \n",
              "25%             0.000000          0.000000               1.000000   \n",
              "50%             1.000000          0.000000               1.000000   \n",
              "75%             1.000000          0.000000               1.000000   \n",
              "max             1.000000          1.000000               1.000000   \n",
              "\n",
              "       avoid_large_gatherings  reduced_outside_home_cont  avoid_touch_face  \\\n",
              "count            26707.000000               26707.000000      26707.000000   \n",
              "mean                 0.357472                   0.336279          0.678811   \n",
              "std                  0.479264                   0.472444          0.466942   \n",
              "min                  0.000000                   0.000000          0.000000   \n",
              "25%                  0.000000                   0.000000          0.000000   \n",
              "50%                  0.000000                   0.000000          1.000000   \n",
              "75%                  1.000000                   1.000000          1.000000   \n",
              "max                  1.000000                   1.000000          1.000000   \n",
              "\n",
              "       ...  qualification          race           sex  income_level  \\\n",
              "count  ...   26707.000000  26707.000000  26707.000000  26707.000000   \n",
              "mean   ...       2.057513      2.570300      0.406223      0.953795   \n",
              "std    ...       1.435626      0.923226      0.491136      1.113444   \n",
              "min    ...       0.000000      0.000000      0.000000      0.000000   \n",
              "25%    ...       1.000000      3.000000      0.000000      0.000000   \n",
              "50%    ...       2.000000      3.000000      0.000000      1.000000   \n",
              "75%    ...       4.000000      3.000000      1.000000      2.000000   \n",
              "max    ...       4.000000      3.000000      1.000000      3.000000   \n",
              "\n",
              "       marital_status  housing_status    employment    census_msa  \\\n",
              "count    26707.000000    26707.000000  26707.000000  26707.000000   \n",
              "mean         0.932190        1.145542      0.984161      0.833489   \n",
              "std          0.970936        0.526582      1.052723      0.823313   \n",
              "min          0.000000        0.000000      0.000000      0.000000   \n",
              "25%          0.000000        1.000000      0.000000      0.000000   \n",
              "50%          0.000000        1.000000      0.000000      1.000000   \n",
              "75%          2.000000        1.000000      2.000000      2.000000   \n",
              "max          2.000000        2.000000      3.000000      2.000000   \n",
              "\n",
              "       no_of_adults  no_of_children  \n",
              "count  26707.000000    26707.000000  \n",
              "mean       0.887558        0.538922  \n",
              "std        0.749980        0.924918  \n",
              "min        0.000000        0.000000  \n",
              "25%        0.000000        0.000000  \n",
              "50%        1.000000        0.000000  \n",
              "75%        1.000000        1.000000  \n",
              "max        3.000000        3.000000  \n",
              "\n",
              "[8 rows x 33 columns]"
            ],
            "text/html": [
              "\n",
              "  <div id=\"df-8a157f2e-1bbb-4dac-a263-27e1c9681cef\">\n",
              "    <div class=\"colab-df-container\">\n",
              "      <div>\n",
              "<style scoped>\n",
              "    .dataframe tbody tr th:only-of-type {\n",
              "        vertical-align: middle;\n",
              "    }\n",
              "\n",
              "    .dataframe tbody tr th {\n",
              "        vertical-align: top;\n",
              "    }\n",
              "\n",
              "    .dataframe thead th {\n",
              "        text-align: right;\n",
              "    }\n",
              "</style>\n",
              "<table border=\"1\" class=\"dataframe\">\n",
              "  <thead>\n",
              "    <tr style=\"text-align: right;\">\n",
              "      <th></th>\n",
              "      <th>unique_id</th>\n",
              "      <th>h1n1_worry</th>\n",
              "      <th>h1n1_awareness</th>\n",
              "      <th>antiviral_medication</th>\n",
              "      <th>contact_avoidance</th>\n",
              "      <th>bought_face_mask</th>\n",
              "      <th>wash_hands_frequently</th>\n",
              "      <th>avoid_large_gatherings</th>\n",
              "      <th>reduced_outside_home_cont</th>\n",
              "      <th>avoid_touch_face</th>\n",
              "      <th>...</th>\n",
              "      <th>qualification</th>\n",
              "      <th>race</th>\n",
              "      <th>sex</th>\n",
              "      <th>income_level</th>\n",
              "      <th>marital_status</th>\n",
              "      <th>housing_status</th>\n",
              "      <th>employment</th>\n",
              "      <th>census_msa</th>\n",
              "      <th>no_of_adults</th>\n",
              "      <th>no_of_children</th>\n",
              "    </tr>\n",
              "  </thead>\n",
              "  <tbody>\n",
              "    <tr>\n",
              "      <th>count</th>\n",
              "      <td>26707.000000</td>\n",
              "      <td>26707.000000</td>\n",
              "      <td>26707.000000</td>\n",
              "      <td>26707.000000</td>\n",
              "      <td>26707.000000</td>\n",
              "      <td>26707.000000</td>\n",
              "      <td>26707.000000</td>\n",
              "      <td>26707.000000</td>\n",
              "      <td>26707.000000</td>\n",
              "      <td>26707.000000</td>\n",
              "      <td>...</td>\n",
              "      <td>26707.000000</td>\n",
              "      <td>26707.000000</td>\n",
              "      <td>26707.000000</td>\n",
              "      <td>26707.000000</td>\n",
              "      <td>26707.000000</td>\n",
              "      <td>26707.000000</td>\n",
              "      <td>26707.000000</td>\n",
              "      <td>26707.000000</td>\n",
              "      <td>26707.000000</td>\n",
              "      <td>26707.000000</td>\n",
              "    </tr>\n",
              "    <tr>\n",
              "      <th>mean</th>\n",
              "      <td>13353.000000</td>\n",
              "      <td>1.619800</td>\n",
              "      <td>1.261392</td>\n",
              "      <td>0.048714</td>\n",
              "      <td>0.727749</td>\n",
              "      <td>0.068933</td>\n",
              "      <td>0.825888</td>\n",
              "      <td>0.357472</td>\n",
              "      <td>0.336279</td>\n",
              "      <td>0.678811</td>\n",
              "      <td>...</td>\n",
              "      <td>2.057513</td>\n",
              "      <td>2.570300</td>\n",
              "      <td>0.406223</td>\n",
              "      <td>0.953795</td>\n",
              "      <td>0.932190</td>\n",
              "      <td>1.145542</td>\n",
              "      <td>0.984161</td>\n",
              "      <td>0.833489</td>\n",
              "      <td>0.887558</td>\n",
              "      <td>0.538922</td>\n",
              "    </tr>\n",
              "    <tr>\n",
              "      <th>std</th>\n",
              "      <td>7709.791156</td>\n",
              "      <td>0.909016</td>\n",
              "      <td>0.617047</td>\n",
              "      <td>0.215273</td>\n",
              "      <td>0.445127</td>\n",
              "      <td>0.253345</td>\n",
              "      <td>0.379213</td>\n",
              "      <td>0.479264</td>\n",
              "      <td>0.472444</td>\n",
              "      <td>0.466942</td>\n",
              "      <td>...</td>\n",
              "      <td>1.435626</td>\n",
              "      <td>0.923226</td>\n",
              "      <td>0.491136</td>\n",
              "      <td>1.113444</td>\n",
              "      <td>0.970936</td>\n",
              "      <td>0.526582</td>\n",
              "      <td>1.052723</td>\n",
              "      <td>0.823313</td>\n",
              "      <td>0.749980</td>\n",
              "      <td>0.924918</td>\n",
              "    </tr>\n",
              "    <tr>\n",
              "      <th>min</th>\n",
              "      <td>0.000000</td>\n",
              "      <td>0.000000</td>\n",
              "      <td>0.000000</td>\n",
              "      <td>0.000000</td>\n",
              "      <td>0.000000</td>\n",
              "      <td>0.000000</td>\n",
              "      <td>0.000000</td>\n",
              "      <td>0.000000</td>\n",
              "      <td>0.000000</td>\n",
              "      <td>0.000000</td>\n",
              "      <td>...</td>\n",
              "      <td>0.000000</td>\n",
              "      <td>0.000000</td>\n",
              "      <td>0.000000</td>\n",
              "      <td>0.000000</td>\n",
              "      <td>0.000000</td>\n",
              "      <td>0.000000</td>\n",
              "      <td>0.000000</td>\n",
              "      <td>0.000000</td>\n",
              "      <td>0.000000</td>\n",
              "      <td>0.000000</td>\n",
              "    </tr>\n",
              "    <tr>\n",
              "      <th>25%</th>\n",
              "      <td>6676.500000</td>\n",
              "      <td>1.000000</td>\n",
              "      <td>1.000000</td>\n",
              "      <td>0.000000</td>\n",
              "      <td>0.000000</td>\n",
              "      <td>0.000000</td>\n",
              "      <td>1.000000</td>\n",
              "      <td>0.000000</td>\n",
              "      <td>0.000000</td>\n",
              "      <td>0.000000</td>\n",
              "      <td>...</td>\n",
              "      <td>1.000000</td>\n",
              "      <td>3.000000</td>\n",
              "      <td>0.000000</td>\n",
              "      <td>0.000000</td>\n",
              "      <td>0.000000</td>\n",
              "      <td>1.000000</td>\n",
              "      <td>0.000000</td>\n",
              "      <td>0.000000</td>\n",
              "      <td>0.000000</td>\n",
              "      <td>0.000000</td>\n",
              "    </tr>\n",
              "    <tr>\n",
              "      <th>50%</th>\n",
              "      <td>13353.000000</td>\n",
              "      <td>2.000000</td>\n",
              "      <td>1.000000</td>\n",
              "      <td>0.000000</td>\n",
              "      <td>1.000000</td>\n",
              "      <td>0.000000</td>\n",
              "      <td>1.000000</td>\n",
              "      <td>0.000000</td>\n",
              "      <td>0.000000</td>\n",
              "      <td>1.000000</td>\n",
              "      <td>...</td>\n",
              "      <td>2.000000</td>\n",
              "      <td>3.000000</td>\n",
              "      <td>0.000000</td>\n",
              "      <td>1.000000</td>\n",
              "      <td>0.000000</td>\n",
              "      <td>1.000000</td>\n",
              "      <td>0.000000</td>\n",
              "      <td>1.000000</td>\n",
              "      <td>1.000000</td>\n",
              "      <td>0.000000</td>\n",
              "    </tr>\n",
              "    <tr>\n",
              "      <th>75%</th>\n",
              "      <td>20029.500000</td>\n",
              "      <td>2.000000</td>\n",
              "      <td>2.000000</td>\n",
              "      <td>0.000000</td>\n",
              "      <td>1.000000</td>\n",
              "      <td>0.000000</td>\n",
              "      <td>1.000000</td>\n",
              "      <td>1.000000</td>\n",
              "      <td>1.000000</td>\n",
              "      <td>1.000000</td>\n",
              "      <td>...</td>\n",
              "      <td>4.000000</td>\n",
              "      <td>3.000000</td>\n",
              "      <td>1.000000</td>\n",
              "      <td>2.000000</td>\n",
              "      <td>2.000000</td>\n",
              "      <td>1.000000</td>\n",
              "      <td>2.000000</td>\n",
              "      <td>2.000000</td>\n",
              "      <td>1.000000</td>\n",
              "      <td>1.000000</td>\n",
              "    </tr>\n",
              "    <tr>\n",
              "      <th>max</th>\n",
              "      <td>26706.000000</td>\n",
              "      <td>3.000000</td>\n",
              "      <td>2.000000</td>\n",
              "      <td>1.000000</td>\n",
              "      <td>1.000000</td>\n",
              "      <td>1.000000</td>\n",
              "      <td>1.000000</td>\n",
              "      <td>1.000000</td>\n",
              "      <td>1.000000</td>\n",
              "      <td>1.000000</td>\n",
              "      <td>...</td>\n",
              "      <td>4.000000</td>\n",
              "      <td>3.000000</td>\n",
              "      <td>1.000000</td>\n",
              "      <td>3.000000</td>\n",
              "      <td>2.000000</td>\n",
              "      <td>2.000000</td>\n",
              "      <td>3.000000</td>\n",
              "      <td>2.000000</td>\n",
              "      <td>3.000000</td>\n",
              "      <td>3.000000</td>\n",
              "    </tr>\n",
              "  </tbody>\n",
              "</table>\n",
              "<p>8 rows × 33 columns</p>\n",
              "</div>\n",
              "      <button class=\"colab-df-convert\" onclick=\"convertToInteractive('df-8a157f2e-1bbb-4dac-a263-27e1c9681cef')\"\n",
              "              title=\"Convert this dataframe to an interactive table.\"\n",
              "              style=\"display:none;\">\n",
              "        \n",
              "  <svg xmlns=\"http://www.w3.org/2000/svg\" height=\"24px\"viewBox=\"0 0 24 24\"\n",
              "       width=\"24px\">\n",
              "    <path d=\"M0 0h24v24H0V0z\" fill=\"none\"/>\n",
              "    <path d=\"M18.56 5.44l.94 2.06.94-2.06 2.06-.94-2.06-.94-.94-2.06-.94 2.06-2.06.94zm-11 1L8.5 8.5l.94-2.06 2.06-.94-2.06-.94L8.5 2.5l-.94 2.06-2.06.94zm10 10l.94 2.06.94-2.06 2.06-.94-2.06-.94-.94-2.06-.94 2.06-2.06.94z\"/><path d=\"M17.41 7.96l-1.37-1.37c-.4-.4-.92-.59-1.43-.59-.52 0-1.04.2-1.43.59L10.3 9.45l-7.72 7.72c-.78.78-.78 2.05 0 2.83L4 21.41c.39.39.9.59 1.41.59.51 0 1.02-.2 1.41-.59l7.78-7.78 2.81-2.81c.8-.78.8-2.07 0-2.86zM5.41 20L4 18.59l7.72-7.72 1.47 1.35L5.41 20z\"/>\n",
              "  </svg>\n",
              "      </button>\n",
              "      \n",
              "  <style>\n",
              "    .colab-df-container {\n",
              "      display:flex;\n",
              "      flex-wrap:wrap;\n",
              "      gap: 12px;\n",
              "    }\n",
              "\n",
              "    .colab-df-convert {\n",
              "      background-color: #E8F0FE;\n",
              "      border: none;\n",
              "      border-radius: 50%;\n",
              "      cursor: pointer;\n",
              "      display: none;\n",
              "      fill: #1967D2;\n",
              "      height: 32px;\n",
              "      padding: 0 0 0 0;\n",
              "      width: 32px;\n",
              "    }\n",
              "\n",
              "    .colab-df-convert:hover {\n",
              "      background-color: #E2EBFA;\n",
              "      box-shadow: 0px 1px 2px rgba(60, 64, 67, 0.3), 0px 1px 3px 1px rgba(60, 64, 67, 0.15);\n",
              "      fill: #174EA6;\n",
              "    }\n",
              "\n",
              "    [theme=dark] .colab-df-convert {\n",
              "      background-color: #3B4455;\n",
              "      fill: #D2E3FC;\n",
              "    }\n",
              "\n",
              "    [theme=dark] .colab-df-convert:hover {\n",
              "      background-color: #434B5C;\n",
              "      box-shadow: 0px 1px 3px 1px rgba(0, 0, 0, 0.15);\n",
              "      filter: drop-shadow(0px 1px 2px rgba(0, 0, 0, 0.3));\n",
              "      fill: #FFFFFF;\n",
              "    }\n",
              "  </style>\n",
              "\n",
              "      <script>\n",
              "        const buttonEl =\n",
              "          document.querySelector('#df-8a157f2e-1bbb-4dac-a263-27e1c9681cef button.colab-df-convert');\n",
              "        buttonEl.style.display =\n",
              "          google.colab.kernel.accessAllowed ? 'block' : 'none';\n",
              "\n",
              "        async function convertToInteractive(key) {\n",
              "          const element = document.querySelector('#df-8a157f2e-1bbb-4dac-a263-27e1c9681cef');\n",
              "          const dataTable =\n",
              "            await google.colab.kernel.invokeFunction('convertToInteractive',\n",
              "                                                     [key], {});\n",
              "          if (!dataTable) return;\n",
              "\n",
              "          const docLinkHtml = 'Like what you see? Visit the ' +\n",
              "            '<a target=\"_blank\" href=https://colab.research.google.com/notebooks/data_table.ipynb>data table notebook</a>'\n",
              "            + ' to learn more about interactive tables.';\n",
              "          element.innerHTML = '';\n",
              "          dataTable['output_type'] = 'display_data';\n",
              "          await google.colab.output.renderOutput(dataTable, element);\n",
              "          const docLink = document.createElement('div');\n",
              "          docLink.innerHTML = docLinkHtml;\n",
              "          element.appendChild(docLink);\n",
              "        }\n",
              "      </script>\n",
              "    </div>\n",
              "  </div>\n",
              "  "
            ]
          },
          "metadata": {},
          "execution_count": 105
        }
      ],
      "source": [
        "features.describe()"
      ]
    },
    {
      "cell_type": "markdown",
      "metadata": {
        "id": "vID2mnusCFs6"
      },
      "source": [
        "Visualising categorical data"
      ]
    },
    {
      "cell_type": "code",
      "execution_count": 106,
      "metadata": {
        "colab": {
          "base_uri": "https://localhost:8080/"
        },
        "id": "ukv7_y3cCFs8",
        "outputId": "2bf441f4-18de-4706-eb7e-2a76dbc5b58e"
      },
      "outputs": [
        {
          "output_type": "execute_result",
          "data": {
            "text/plain": [
              "2.0    10667\n",
              "1.0     8153\n",
              "3.0     4591\n",
              "0.0     3296\n",
              "Name: h1n1_worry, dtype: int64"
            ]
          },
          "metadata": {},
          "execution_count": 106
        }
      ],
      "source": [
        "features.h1n1_worry.value_counts()"
      ]
    },
    {
      "cell_type": "code",
      "execution_count": 107,
      "metadata": {
        "colab": {
          "base_uri": "https://localhost:8080/",
          "height": 297
        },
        "id": "yilB61M3CFs9",
        "outputId": "1c3ea1bb-8d5a-471b-f4e2-1ac03f25fe21"
      },
      "outputs": [
        {
          "output_type": "execute_result",
          "data": {
            "text/plain": [
              "<matplotlib.axes._subplots.AxesSubplot at 0x7fb899461c50>"
            ]
          },
          "metadata": {},
          "execution_count": 107
        },
        {
          "output_type": "display_data",
          "data": {
            "text/plain": [
              "<Figure size 432x288 with 1 Axes>"
            ],
            "image/png": "[encoded data removed]"
          },
          "metadata": {
            "needs_background": "light"
          }
        }
      ],
      "source": [
        "sns.countplot('h1n1_worry',data =features ,palette = 'hls')\n"
      ]
    },
    {
      "cell_type": "markdown",
      "metadata": {
        "id": "LpWLMXJfCFs_"
      },
      "source": [
        "Most of the people are somewhat concerned about h1n1 vaccine"
      ]
    },
    {
      "cell_type": "code",
      "execution_count": 108,
      "metadata": {
        "colab": {
          "base_uri": "https://localhost:8080/"
        },
        "id": "c59uI6mFCFtA",
        "outputId": "c09225ba-0a46-4cd2-a448-f016135bd325"
      },
      "outputs": [
        {
          "output_type": "execute_result",
          "data": {
            "text/plain": [
              "1.0    14714\n",
              "2.0     9487\n",
              "0.0     2506\n",
              "Name: h1n1_awareness, dtype: int64"
            ]
          },
          "metadata": {},
          "execution_count": 108
        }
      ],
      "source": [
        "features.h1n1_awareness.value_counts()"
      ]
    },
    {
      "cell_type": "code",
      "execution_count": 109,
      "metadata": {
        "colab": {
          "base_uri": "https://localhost:8080/",
          "height": 297
        },
        "id": "bzxgQHJNCFtB",
        "outputId": "7fa6a92f-23a6-409d-8918-9424e670ee79"
      },
      "outputs": [
        {
          "output_type": "execute_result",
          "data": {
            "text/plain": [
              "<matplotlib.axes._subplots.AxesSubplot at 0x7fb898c80f10>"
            ]
          },
          "metadata": {},
          "execution_count": 109
        },
        {
          "output_type": "display_data",
          "data": {
            "text/plain": [
              "<Figure size 432x288 with 1 Axes>"
            ],
            "image/png": "[encoded data removed]"
          },
          "metadata": {
            "needs_background": "light"
          }
        }
      ],
      "source": [
        "sns.countplot('h1n1_awareness',data =features ,palette = 'hls')\n"
      ]
    },
    {
      "cell_type": "markdown",
      "metadata": {
        "id": "tnRklzV5CFtC"
      },
      "source": [
        "Almost 90% of people have little or lots of knowledge about h1n1 vaccine"
      ]
    },
    {
      "cell_type": "code",
      "execution_count": 110,
      "metadata": {
        "colab": {
          "base_uri": "https://localhost:8080/",
          "height": 297
        },
        "id": "DUilDdS4CFtD",
        "outputId": "2d5c661a-a203-4ec6-f72f-4a380553bca7"
      },
      "outputs": [
        {
          "output_type": "execute_result",
          "data": {
            "text/plain": [
              "<matplotlib.axes._subplots.AxesSubplot at 0x7fb898c6fdd0>"
            ]
          },
          "metadata": {},
          "execution_count": 110
        },
        {
          "output_type": "display_data",
          "data": {
            "text/plain": [
              "<Figure size 432x288 with 1 Axes>"
            ],
            "image/png": "[encoded data removed]"
          },
          "metadata": {
            "needs_background": "light"
          }
        }
      ],
      "source": [
        "sns.countplot('antiviral_medication',data =features ,palette = 'hls')\n"
      ]
    },
    {
      "cell_type": "markdown",
      "metadata": {
        "id": "SUZgGP6pCFtE"
      },
      "source": [
        "Almost non of the people took antiviral medications"
      ]
    },
    {
      "cell_type": "code",
      "execution_count": 111,
      "metadata": {
        "colab": {
          "base_uri": "https://localhost:8080/"
        },
        "id": "cSnI96hzCFtF",
        "outputId": "18a0ae01-a823-41ed-9e25-23adbe36d1be"
      },
      "outputs": [
        {
          "output_type": "execute_result",
          "data": {
            "text/plain": [
              "1.0    19436\n",
              "0.0     7271\n",
              "Name: contact_avoidance, dtype: int64"
            ]
          },
          "metadata": {},
          "execution_count": 111
        }
      ],
      "source": [
        "features.contact_avoidance.value_counts()"
      ]
    },
    {
      "cell_type": "code",
      "execution_count": 112,
      "metadata": {
        "colab": {
          "base_uri": "https://localhost:8080/",
          "height": 297
        },
        "id": "a_uGdMtICFtG",
        "outputId": "e65eb57b-1262-4c78-f98a-ec5f9e4c8788"
      },
      "outputs": [
        {
          "output_type": "execute_result",
          "data": {
            "text/plain": [
              "<matplotlib.axes._subplots.AxesSubplot at 0x7fb898c3e190>"
            ]
          },
          "metadata": {},
          "execution_count": 112
        },
        {
          "output_type": "display_data",
          "data": {
            "text/plain": [
              "<Figure size 432x288 with 1 Axes>"
            ],
            "image/png": "[encoded data removed]"
          },
          "metadata": {
            "needs_background": "light"
          }
        }
      ],
      "source": [
        "sns.countplot('contact_avoidance',data =features ,palette = 'hls')"
      ]
    },
    {
      "cell_type": "markdown",
      "metadata": {
        "id": "kwvGbwufCFtH"
      },
      "source": [
        "70% of people have avoided contact with people with symptoms"
      ]
    },
    {
      "cell_type": "code",
      "execution_count": 113,
      "metadata": {
        "colab": {
          "base_uri": "https://localhost:8080/"
        },
        "id": "bkpG30krCFtI",
        "outputId": "3df87c9b-edf2-4a63-f874-4da0bb95efb9"
      },
      "outputs": [
        {
          "output_type": "execute_result",
          "data": {
            "text/plain": [
              "0.0    24866\n",
              "1.0     1841\n",
              "Name: bought_face_mask, dtype: int64"
            ]
          },
          "metadata": {},
          "execution_count": 113
        }
      ],
      "source": [
        "features.bought_face_mask.value_counts()"
      ]
    },
    {
      "cell_type": "code",
      "execution_count": 114,
      "metadata": {
        "colab": {
          "base_uri": "https://localhost:8080/",
          "height": 297
        },
        "id": "MsUWuX2pCFtJ",
        "outputId": "0161290b-e628-418b-919e-8a8e3b88cff1"
      },
      "outputs": [
        {
          "output_type": "execute_result",
          "data": {
            "text/plain": [
              "<matplotlib.axes._subplots.AxesSubplot at 0x7fb898bb13d0>"
            ]
          },
          "metadata": {},
          "execution_count": 114
        },
        {
          "output_type": "display_data",
          "data": {
            "text/plain": [
              "<Figure size 432x288 with 1 Axes>"
            ],
            "image/png": "[encoded data removed]"
          },
          "metadata": {
            "needs_background": "light"
          }
        }
      ],
      "source": [
        "sns.countplot('bought_face_mask',data =features ,palette = 'hls')"
      ]
    },
    {
      "cell_type": "markdown",
      "metadata": {
        "id": "vGLTuexLCFtK"
      },
      "source": [
        "Very few people have bought a face mask"
      ]
    },
    {
      "cell_type": "code",
      "execution_count": 115,
      "metadata": {
        "colab": {
          "base_uri": "https://localhost:8080/"
        },
        "id": "2k_sGmPqCFtK",
        "outputId": "44eada64-2955-4dfc-b0bb-7871d462e849"
      },
      "outputs": [
        {
          "output_type": "execute_result",
          "data": {
            "text/plain": [
              "1.0    22057\n",
              "0.0     4650\n",
              "Name: wash_hands_frequently, dtype: int64"
            ]
          },
          "metadata": {},
          "execution_count": 115
        }
      ],
      "source": [
        "features.wash_hands_frequently.value_counts()"
      ]
    },
    {
      "cell_type": "code",
      "execution_count": 116,
      "metadata": {
        "colab": {
          "base_uri": "https://localhost:8080/",
          "height": 297
        },
        "id": "YBdvdN6tCFtL",
        "outputId": "6bd9a4a9-f07d-4022-c736-555718c09179"
      },
      "outputs": [
        {
          "output_type": "execute_result",
          "data": {
            "text/plain": [
              "<matplotlib.axes._subplots.AxesSubplot at 0x7fb898b0e050>"
            ]
          },
          "metadata": {},
          "execution_count": 116
        },
        {
          "output_type": "display_data",
          "data": {
            "text/plain": [
              "<Figure size 432x288 with 1 Axes>"
            ],
            "image/png": "[encoded data removed]"
          },
          "metadata": {
            "needs_background": "light"
          }
        }
      ],
      "source": [
        "sns.countplot('wash_hands_frequently',data =features ,palette = 'hls')"
      ]
    },
    {
      "cell_type": "markdown",
      "metadata": {
        "id": "cHZ1PfGGCFtM"
      },
      "source": [
        "80% of people have frequently washed their hands"
      ]
    },
    {
      "cell_type": "code",
      "execution_count": 117,
      "metadata": {
        "colab": {
          "base_uri": "https://localhost:8080/"
        },
        "id": "lCoGrm-fCFtN",
        "outputId": "719b589b-1d16-426b-ca6e-5ad7d6e30d6d"
      },
      "outputs": [
        {
          "output_type": "execute_result",
          "data": {
            "text/plain": [
              "0.0    17160\n",
              "1.0     9547\n",
              "Name: avoid_large_gatherings, dtype: int64"
            ]
          },
          "metadata": {},
          "execution_count": 117
        }
      ],
      "source": [
        "features.avoid_large_gatherings.value_counts()"
      ]
    },
    {
      "cell_type": "code",
      "execution_count": 118,
      "metadata": {
        "colab": {
          "base_uri": "https://localhost:8080/",
          "height": 297
        },
        "id": "wjdJW_eDCFtO",
        "outputId": "5ca54135-69c9-410c-90db-97e976bdb671"
      },
      "outputs": [
        {
          "output_type": "execute_result",
          "data": {
            "text/plain": [
              "<matplotlib.axes._subplots.AxesSubplot at 0x7fb898b7f990>"
            ]
          },
          "metadata": {},
          "execution_count": 118
        },
        {
          "output_type": "display_data",
          "data": {
            "text/plain": [
              "<Figure size 432x288 with 1 Axes>"
            ],
            "image/png": "[encoded data removed]"
          },
          "metadata": {
            "needs_background": "light"
          }
        }
      ],
      "source": [
        "sns.countplot('avoid_large_gatherings',data =features ,palette = 'hls')"
      ]
    },
    {
      "cell_type": "code",
      "execution_count": 119,
      "metadata": {
        "colab": {
          "base_uri": "https://localhost:8080/"
        },
        "id": "KJBdeMDdCFtQ",
        "outputId": "9275eeba-d7b6-47d5-f2fc-28b636dc8bd7"
      },
      "outputs": [
        {
          "output_type": "execute_result",
          "data": {
            "text/plain": [
              "0.0    17726\n",
              "1.0     8981\n",
              "Name: reduced_outside_home_cont, dtype: int64"
            ]
          },
          "metadata": {},
          "execution_count": 119
        }
      ],
      "source": [
        "features.reduced_outside_home_cont.value_counts()"
      ]
    },
    {
      "cell_type": "code",
      "execution_count": 120,
      "metadata": {
        "colab": {
          "base_uri": "https://localhost:8080/",
          "height": 297
        },
        "id": "rxcaFpJECFtR",
        "outputId": "23094c3a-dc4a-4445-ef42-b85b0e8ea1aa"
      },
      "outputs": [
        {
          "output_type": "execute_result",
          "data": {
            "text/plain": [
              "<matplotlib.axes._subplots.AxesSubplot at 0x7fb898b08e90>"
            ]
          },
          "metadata": {},
          "execution_count": 120
        },
        {
          "output_type": "display_data",
          "data": {
            "text/plain": [
              "<Figure size 432x288 with 1 Axes>"
            ],
            "image/png": "[encoded data removed]"
          },
          "metadata": {
            "needs_background": "light"
          }
        }
      ],
      "source": [
        "sns.countplot('reduced_outside_home_cont',data =features ,palette = 'hls')"
      ]
    },
    {
      "cell_type": "code",
      "execution_count": 121,
      "metadata": {
        "colab": {
          "base_uri": "https://localhost:8080/"
        },
        "id": "aIzMEBkyCFtS",
        "outputId": "e6a0252c-8642-43b1-bd38-d0a27ea700d4"
      },
      "outputs": [
        {
          "output_type": "execute_result",
          "data": {
            "text/plain": [
              "1.0    18129\n",
              "0.0     8578\n",
              "Name: avoid_touch_face, dtype: int64"
            ]
          },
          "metadata": {},
          "execution_count": 121
        }
      ],
      "source": [
        "features.avoid_touch_face.value_counts()"
      ]
    },
    {
      "cell_type": "code",
      "execution_count": 122,
      "metadata": {
        "colab": {
          "base_uri": "https://localhost:8080/",
          "height": 297
        },
        "id": "Jfmswl_RCFtT",
        "outputId": "1156ca9b-5fb0-44c1-c5e1-dd9c4cc206bb"
      },
      "outputs": [
        {
          "output_type": "execute_result",
          "data": {
            "text/plain": [
              "<matplotlib.axes._subplots.AxesSubplot at 0x7fb898a395d0>"
            ]
          },
          "metadata": {},
          "execution_count": 122
        },
        {
          "output_type": "display_data",
          "data": {
            "text/plain": [
              "<Figure size 432x288 with 1 Axes>"
            ],
            "image/png": "[encoded data removed]"
          },
          "metadata": {
            "needs_background": "light"
          }
        }
      ],
      "source": [
        "sns.countplot('avoid_touch_face',data =features ,palette = 'hls')"
      ]
    },
    {
      "cell_type": "markdown",
      "metadata": {
        "id": "_E9h1qZuCFtU"
      },
      "source": [
        "70% of people have avoided touching eyes, nose, or mouth"
      ]
    },
    {
      "cell_type": "code",
      "execution_count": 123,
      "metadata": {
        "colab": {
          "base_uri": "https://localhost:8080/"
        },
        "id": "KZpbdln8CFtV",
        "outputId": "065210fa-bd9d-4846-b6ce-09b3c4b55fd5"
      },
      "outputs": [
        {
          "output_type": "execute_result",
          "data": {
            "text/plain": [
              "0.0    21299\n",
              "1.0     5408\n",
              "Name: dr_recc_h1n1_vacc, dtype: int64"
            ]
          },
          "metadata": {},
          "execution_count": 123
        }
      ],
      "source": [
        "features.dr_recc_h1n1_vacc.value_counts()\n"
      ]
    },
    {
      "cell_type": "code",
      "execution_count": 124,
      "metadata": {
        "colab": {
          "base_uri": "https://localhost:8080/",
          "height": 297
        },
        "id": "g8d0W5-TCFtW",
        "outputId": "f1f39da6-c8c6-421c-e35a-20cf4cdd0aac"
      },
      "outputs": [
        {
          "output_type": "execute_result",
          "data": {
            "text/plain": [
              "<matplotlib.axes._subplots.AxesSubplot at 0x7fb8989a8710>"
            ]
          },
          "metadata": {},
          "execution_count": 124
        },
        {
          "output_type": "display_data",
          "data": {
            "text/plain": [
              "<Figure size 432x288 with 1 Axes>"
            ],
            "image/png": "[encoded data removed]"
          },
          "metadata": {
            "needs_background": "light"
          }
        }
      ],
      "source": [
        "sns.countplot('dr_recc_h1n1_vacc',data =features ,palette = 'hls')"
      ]
    },
    {
      "cell_type": "markdown",
      "metadata": {
        "id": "3mrwTzJHCFtX"
      },
      "source": [
        "Doctors recommended the h1n1 vaccine to only 20% of people"
      ]
    },
    {
      "cell_type": "code",
      "execution_count": 125,
      "metadata": {
        "colab": {
          "base_uri": "https://localhost:8080/"
        },
        "id": "srqK0XnKCFtY",
        "outputId": "9a851e6e-8e19-4dad-e126-5a9ebb015cad"
      },
      "outputs": [
        {
          "output_type": "execute_result",
          "data": {
            "text/plain": [
              "0.0    18613\n",
              "1.0     8094\n",
              "Name: dr_recc_seasonal_vacc, dtype: int64"
            ]
          },
          "metadata": {},
          "execution_count": 125
        }
      ],
      "source": [
        "features.dr_recc_seasonal_vacc.value_counts()\n"
      ]
    },
    {
      "cell_type": "code",
      "execution_count": 126,
      "metadata": {
        "colab": {
          "base_uri": "https://localhost:8080/",
          "height": 297
        },
        "id": "OGTvsTQMCFtZ",
        "outputId": "05e239d1-9f00-42b1-981c-09cf1f9bba66"
      },
      "outputs": [
        {
          "output_type": "execute_result",
          "data": {
            "text/plain": [
              "<matplotlib.axes._subplots.AxesSubplot at 0x7fb898c799d0>"
            ]
          },
          "metadata": {},
          "execution_count": 126
        },
        {
          "output_type": "display_data",
          "data": {
            "text/plain": [
              "<Figure size 432x288 with 1 Axes>"
            ],
            "image/png": "[encoded data removed]"
          },
          "metadata": {
            "needs_background": "light"
          }
        }
      ],
      "source": [
        "sns.countplot('dr_recc_seasonal_vacc',data =features ,palette = 'hls')"
      ]
    },
    {
      "cell_type": "markdown",
      "metadata": {
        "id": "x2fvv-I2CFta"
      },
      "source": [
        "Doctors recommended seasonal vaccine to only 30% of people"
      ]
    },
    {
      "cell_type": "code",
      "execution_count": 127,
      "metadata": {
        "colab": {
          "base_uri": "https://localhost:8080/"
        },
        "id": "ERLcDs25CFtb",
        "outputId": "1b779995-98cd-48b6-aa6a-c5fc6dfb69dd"
      },
      "outputs": [
        {
          "output_type": "execute_result",
          "data": {
            "text/plain": [
              "0.0    19417\n",
              "1.0     7290\n",
              "Name: chronic_medic_condition, dtype: int64"
            ]
          },
          "metadata": {},
          "execution_count": 127
        }
      ],
      "source": [
        "features.chronic_medic_condition.value_counts()"
      ]
    },
    {
      "cell_type": "code",
      "execution_count": 128,
      "metadata": {
        "colab": {
          "base_uri": "https://localhost:8080/",
          "height": 297
        },
        "id": "gGYGVsaDCFtd",
        "outputId": "6284c2b6-3dd4-42ae-f7b5-628c5ad5952b"
      },
      "outputs": [
        {
          "output_type": "execute_result",
          "data": {
            "text/plain": [
              "<matplotlib.axes._subplots.AxesSubplot at 0x7fb898bdf310>"
            ]
          },
          "metadata": {},
          "execution_count": 128
        },
        {
          "output_type": "display_data",
          "data": {
            "text/plain": [
              "<Figure size 432x288 with 1 Axes>"
            ],
            "image/png": "[encoded data removed]"
          },
          "metadata": {
            "needs_background": "light"
          }
        }
      ],
      "source": [
        "sns.countplot('chronic_medic_condition',data =features ,palette = 'hls')"
      ]
    },
    {
      "cell_type": "code",
      "execution_count": 129,
      "metadata": {
        "colab": {
          "base_uri": "https://localhost:8080/"
        },
        "id": "yHXoLUfECFte",
        "outputId": "e9be619e-79ee-455f-9338-6f30f25f7bfe"
      },
      "outputs": [
        {
          "output_type": "execute_result",
          "data": {
            "text/plain": [
              "0.0    24569\n",
              "1.0     2138\n",
              "Name: cont_child_undr_6_mnths, dtype: int64"
            ]
          },
          "metadata": {},
          "execution_count": 129
        }
      ],
      "source": [
        "features.cont_child_undr_6_mnths.value_counts()"
      ]
    },
    {
      "cell_type": "code",
      "execution_count": 130,
      "metadata": {
        "colab": {
          "base_uri": "https://localhost:8080/",
          "height": 297
        },
        "id": "-Nq8ZFhDCFtf",
        "outputId": "0fb7fb5e-14e5-44dc-e474-8de9607083ad"
      },
      "outputs": [
        {
          "output_type": "execute_result",
          "data": {
            "text/plain": [
              "<matplotlib.axes._subplots.AxesSubplot at 0x7fb8988b1990>"
            ]
          },
          "metadata": {},
          "execution_count": 130
        },
        {
          "output_type": "display_data",
          "data": {
            "text/plain": [
              "<Figure size 432x288 with 1 Axes>"
            ],
            "image/png": "[encoded data removed]"
          },
          "metadata": {
            "needs_background": "light"
          }
        }
      ],
      "source": [
        "sns.countplot('cont_child_undr_6_mnths',data =features ,palette = 'hls')"
      ]
    },
    {
      "cell_type": "markdown",
      "metadata": {
        "id": "EXYtpe4lCFth"
      },
      "source": [
        "Very few people had close contact with child under 6 months"
      ]
    },
    {
      "cell_type": "code",
      "execution_count": 131,
      "metadata": {
        "colab": {
          "base_uri": "https://localhost:8080/"
        },
        "id": "fG-6xE7qCFti",
        "outputId": "cf1cee69-8311-4732-cea0-80b66e827e00"
      },
      "outputs": [
        {
          "output_type": "execute_result",
          "data": {
            "text/plain": [
              "0.0    23808\n",
              "1.0     2899\n",
              "Name: is_health_worker, dtype: int64"
            ]
          },
          "metadata": {},
          "execution_count": 131
        }
      ],
      "source": [
        "features.is_health_worker.value_counts()"
      ]
    },
    {
      "cell_type": "code",
      "execution_count": 132,
      "metadata": {
        "colab": {
          "base_uri": "https://localhost:8080/",
          "height": 297
        },
        "id": "sJSJVG1cCFtk",
        "outputId": "89404b6f-c9aa-4c61-db40-ac668f81cbbf"
      },
      "outputs": [
        {
          "output_type": "execute_result",
          "data": {
            "text/plain": [
              "<matplotlib.axes._subplots.AxesSubplot at 0x7fb898808290>"
            ]
          },
          "metadata": {},
          "execution_count": 132
        },
        {
          "output_type": "display_data",
          "data": {
            "text/plain": [
              "<Figure size 432x288 with 1 Axes>"
            ],
            "image/png": "[encoded data removed]"
          },
          "metadata": {
            "needs_background": "light"
          }
        }
      ],
      "source": [
        "sns.countplot('is_health_worker',data = features,palette ='hls')"
      ]
    },
    {
      "cell_type": "markdown",
      "metadata": {
        "id": "PRYU9NXZCFtm"
      },
      "source": [
        "Very few people work in healthcare"
      ]
    },
    {
      "cell_type": "code",
      "execution_count": 133,
      "metadata": {
        "colab": {
          "base_uri": "https://localhost:8080/"
        },
        "id": "dQxHdCW9CFtn",
        "outputId": "9efd484b-3741-4866-c779-c5b4645c1043"
      },
      "outputs": [
        {
          "output_type": "execute_result",
          "data": {
            "text/plain": [
              "1.0    24971\n",
              "0.0     1736\n",
              "Name: has_health_insur, dtype: int64"
            ]
          },
          "metadata": {},
          "execution_count": 133
        }
      ],
      "source": [
        "features.has_health_insur.value_counts()"
      ]
    },
    {
      "cell_type": "code",
      "execution_count": 134,
      "metadata": {
        "colab": {
          "base_uri": "https://localhost:8080/",
          "height": 297
        },
        "id": "PDPsUXhACFto",
        "outputId": "642f8412-13c3-4452-b01d-d4c9eec648a3"
      },
      "outputs": [
        {
          "output_type": "execute_result",
          "data": {
            "text/plain": [
              "<matplotlib.axes._subplots.AxesSubplot at 0x7fb8987f5290>"
            ]
          },
          "metadata": {},
          "execution_count": 134
        },
        {
          "output_type": "display_data",
          "data": {
            "text/plain": [
              "<Figure size 432x288 with 1 Axes>"
            ],
            "image/png": "[encoded data removed]"
          },
          "metadata": {
            "needs_background": "light"
          }
        }
      ],
      "source": [
        "sns.countplot('has_health_insur',data = features , palette = 'hls')"
      ]
    },
    {
      "cell_type": "code",
      "execution_count": 135,
      "metadata": {
        "colab": {
          "base_uri": "https://localhost:8080/"
        },
        "id": "UkbUHiDRCFtp",
        "outputId": "6edb70b0-1c74-4d51-a3a6-1005777b02d6"
      },
      "outputs": [
        {
          "output_type": "execute_result",
          "data": {
            "text/plain": [
              "4.0    12074\n",
              "5.0     7166\n",
              "3.0     4723\n",
              "2.0     1858\n",
              "1.0      886\n",
              "Name: is_h1n1_vacc_effective, dtype: int64"
            ]
          },
          "metadata": {},
          "execution_count": 135
        }
      ],
      "source": [
        "features.is_h1n1_vacc_effective.value_counts()"
      ]
    },
    {
      "cell_type": "code",
      "execution_count": 136,
      "metadata": {
        "colab": {
          "base_uri": "https://localhost:8080/",
          "height": 297
        },
        "id": "eKICgp_4CFtq",
        "outputId": "d0cc9e53-e061-4f2c-d474-c98ccbe4d6aa"
      },
      "outputs": [
        {
          "output_type": "execute_result",
          "data": {
            "text/plain": [
              "<matplotlib.axes._subplots.AxesSubplot at 0x7fb89874ec10>"
            ]
          },
          "metadata": {},
          "execution_count": 136
        },
        {
          "output_type": "display_data",
          "data": {
            "text/plain": [
              "<Figure size 432x288 with 1 Axes>"
            ],
            "image/png": "[encoded data removed]"
          },
          "metadata": {
            "needs_background": "light"
          }
        }
      ],
      "source": [
        "sns.countplot('is_h1n1_vacc_effective',data = features , palette = 'hls')"
      ]
    },
    {
      "cell_type": "markdown",
      "metadata": {
        "id": "BberlA8ICFtr"
      },
      "source": [
        "Most of the people think h1n1 is somewhat effective"
      ]
    },
    {
      "cell_type": "code",
      "execution_count": 137,
      "metadata": {
        "colab": {
          "base_uri": "https://localhost:8080/"
        },
        "id": "yEgsJiH5CFts",
        "outputId": "8768dc41-e715-4b6c-c102-69bd359f9057"
      },
      "outputs": [
        {
          "output_type": "execute_result",
          "data": {
            "text/plain": [
              "2.0    10307\n",
              "1.0     8139\n",
              "4.0     5394\n",
              "5.0     1750\n",
              "3.0     1117\n",
              "Name: is_h1n1_risky, dtype: int64"
            ]
          },
          "metadata": {},
          "execution_count": 137
        }
      ],
      "source": [
        "features.is_h1n1_risky.value_counts()"
      ]
    },
    {
      "cell_type": "code",
      "execution_count": 138,
      "metadata": {
        "colab": {
          "base_uri": "https://localhost:8080/",
          "height": 297
        },
        "id": "qAfQZqswCFtt",
        "outputId": "9c54778f-e7d4-4362-cf96-78f4812333f1"
      },
      "outputs": [
        {
          "output_type": "execute_result",
          "data": {
            "text/plain": [
              "<matplotlib.axes._subplots.AxesSubplot at 0x7fb8986ca110>"
            ]
          },
          "metadata": {},
          "execution_count": 138
        },
        {
          "output_type": "display_data",
          "data": {
            "text/plain": [
              "<Figure size 432x288 with 1 Axes>"
            ],
            "image/png": "[encoded data removed]"
          },
          "metadata": {
            "needs_background": "light"
          }
        }
      ],
      "source": [
        "sns.countplot('is_h1n1_risky',data = features , palette = 'hls')"
      ]
    },
    {
      "cell_type": "markdown",
      "metadata": {
        "id": "hxXRTWAfCFtu"
      },
      "source": [
        "Most people believe the h1n1 vaccine has somewhat low or very low risk"
      ]
    },
    {
      "cell_type": "code",
      "execution_count": 139,
      "metadata": {
        "colab": {
          "base_uri": "https://localhost:8080/"
        },
        "id": "L1MGsjsfCFtv",
        "outputId": "316588ea-7a08-42c4-a76c-a710f392a1a5"
      },
      "outputs": [
        {
          "output_type": "execute_result",
          "data": {
            "text/plain": [
              "2.0    9524\n",
              "1.0    8998\n",
              "4.0    5850\n",
              "5.0    2187\n",
              "3.0     148\n",
              "Name: sick_from_h1n1_vacc, dtype: int64"
            ]
          },
          "metadata": {},
          "execution_count": 139
        }
      ],
      "source": [
        "features.sick_from_h1n1_vacc.value_counts()"
      ]
    },
    {
      "cell_type": "code",
      "execution_count": 140,
      "metadata": {
        "colab": {
          "base_uri": "https://localhost:8080/",
          "height": 301
        },
        "id": "yAp4oKq_CFty",
        "outputId": "1813d6dd-bf15-4dc1-ecb3-47a7d72e1e50"
      },
      "outputs": [
        {
          "output_type": "execute_result",
          "data": {
            "text/plain": [
              "<matplotlib.axes._subplots.AxesSubplot at 0x7fb8986ab4d0>"
            ]
          },
          "metadata": {},
          "execution_count": 140
        },
        {
          "output_type": "display_data",
          "data": {
            "text/plain": [
              "<Figure size 432x288 with 1 Axes>"
            ],
            "image/png": "[encoded data removed]"
          },
          "metadata": {
            "needs_background": "light"
          }
        }
      ],
      "source": [
        "sns.countplot('sick_from_h1n1_vacc',data = features , palette = 'hls')"
      ]
    },
    {
      "cell_type": "markdown",
      "metadata": {
        "id": "36t6IMSbCFt0"
      },
      "source": [
        "Most people are not at all worried or not very worried of getting sick from h1n1 vaccine"
      ]
    },
    {
      "cell_type": "code",
      "execution_count": 141,
      "metadata": {
        "id": "TU7pOL4eCFt1"
      },
      "outputs": [],
      "source": [
        "#Visualising labels"
      ]
    },
    {
      "cell_type": "code",
      "execution_count": 142,
      "metadata": {
        "colab": {
          "base_uri": "https://localhost:8080/",
          "height": 297
        },
        "id": "QpVjm-dzCFt3",
        "outputId": "19ce667c-584a-44a3-f433-0472058d654d"
      },
      "outputs": [
        {
          "output_type": "execute_result",
          "data": {
            "text/plain": [
              "<matplotlib.axes._subplots.AxesSubplot at 0x7fb898632150>"
            ]
          },
          "metadata": {},
          "execution_count": 142
        },
        {
          "output_type": "display_data",
          "data": {
            "text/plain": [
              "<Figure size 432x288 with 1 Axes>"
            ],
            "image/png": "[encoded data removed]"
          },
          "metadata": {
            "needs_background": "light"
          }
        }
      ],
      "source": [
        "sns.countplot('h1n1_vaccine',data = labels , palette = 'hls')"
      ]
    },
    {
      "cell_type": "markdown",
      "metadata": {
        "id": "bFZag5bSCFt4"
      },
      "source": [
        "FEATURE SCALING"
      ]
    },
    {
      "cell_type": "code",
      "execution_count": 143,
      "metadata": {
        "id": "RPJtSAheCFt5"
      },
      "outputs": [],
      "source": [
        "from sklearn.preprocessing import MinMaxScaler , LabelEncoder"
      ]
    },
    {
      "cell_type": "code",
      "execution_count": 144,
      "metadata": {
        "id": "L9M63uQKCFt6"
      },
      "outputs": [],
      "source": [
        "scaler = MinMaxScaler()\n",
        "features = scaler.fit_transform(features)"
      ]
    },
    {
      "cell_type": "code",
      "execution_count": 145,
      "metadata": {
        "id": "5iVGu1XVCFt8"
      },
      "outputs": [],
      "source": [
        "features = pd.DataFrame(features)\n",
        "col_name = ['unique_id', 'h1n1_worry', 'h1n1_awareness', 'antiviral_medication',\n",
        "       'contact_avoidance', 'bought_face_mask', 'wash_hands_frequently',\n",
        "       'avoid_large_gatherings', 'reduced_outside_home_cont',\n",
        "       'avoid_touch_face', 'dr_recc_h1n1_vacc', 'dr_recc_seasonal_vacc',\n",
        "       'chronic_medic_condition', 'cont_child_undr_6_mnths',\n",
        "       'is_health_worker', 'has_health_insur', 'is_h1n1_vacc_effective',\n",
        "       'is_h1n1_risky', 'sick_from_h1n1_vacc', 'is_seas_vacc_effective',\n",
        "       'is_seas_risky', 'sick_from_seas_vacc', 'age_bracket', 'qualification',\n",
        "       'race', 'sex', 'income_level', 'marital_status', 'housing_status',\n",
        "       'employment', 'census_msa', 'no_of_adults', 'no_of_children']\n",
        "features.columns = col_name"
      ]
    },
    {
      "cell_type": "markdown",
      "metadata": {
        "id": "tg83NE2OCFt-"
      },
      "source": [
        "FEATURE SELECTION"
      ]
    },
    {
      "cell_type": "code",
      "execution_count": 146,
      "metadata": {
        "id": "4iL8xJ8ECFt_"
      },
      "outputs": [],
      "source": [
        "#Independent and target variables"
      ]
    },
    {
      "cell_type": "code",
      "execution_count": 147,
      "metadata": {
        "id": "FwmZHAmVCFt_"
      },
      "outputs": [],
      "source": [
        "x = features\n",
        "y = labels"
      ]
    },
    {
      "cell_type": "code",
      "execution_count": 148,
      "metadata": {
        "colab": {
          "base_uri": "https://localhost:8080/",
          "height": 488
        },
        "id": "Ceg6O0ojCFuB",
        "outputId": "f34fceae-d232-4bae-a23c-22b6e9a4f10e"
      },
      "outputs": [
        {
          "output_type": "execute_result",
          "data": {
            "text/plain": [
              "       unique_id  h1n1_worry  h1n1_awareness  antiviral_medication  \\\n",
              "0       0.000000    0.333333             0.0                   0.0   \n",
              "1       0.000037    1.000000             1.0                   0.0   \n",
              "2       0.000075    0.333333             0.5                   0.0   \n",
              "3       0.000112    0.333333             0.5                   0.0   \n",
              "4       0.000150    0.666667             0.5                   0.0   \n",
              "...          ...         ...             ...                   ...   \n",
              "26702   0.999850    0.666667             0.0                   0.0   \n",
              "26703   0.999888    0.333333             1.0                   0.0   \n",
              "26704   0.999925    0.666667             1.0                   0.0   \n",
              "26705   0.999963    0.333333             0.5                   0.0   \n",
              "26706   1.000000    0.000000             0.0                   0.0   \n",
              "\n",
              "       contact_avoidance  bought_face_mask  wash_hands_frequently  \\\n",
              "0                    0.0               0.0                    0.0   \n",
              "1                    1.0               0.0                    1.0   \n",
              "2                    1.0               0.0                    0.0   \n",
              "3                    1.0               0.0                    1.0   \n",
              "4                    1.0               0.0                    1.0   \n",
              "...                  ...               ...                    ...   \n",
              "26702                1.0               0.0                    0.0   \n",
              "26703                1.0               0.0                    1.0   \n",
              "26704                1.0               1.0                    1.0   \n",
              "26705                0.0               0.0                    0.0   \n",
              "26706                1.0               0.0                    0.0   \n",
              "\n",
              "       avoid_large_gatherings  reduced_outside_home_cont  avoid_touch_face  \\\n",
              "0                         0.0                        1.0               1.0   \n",
              "1                         0.0                        1.0               1.0   \n",
              "2                         0.0                        0.0               0.0   \n",
              "3                         1.0                        0.0               0.0   \n",
              "4                         1.0                        0.0               1.0   \n",
              "...                       ...                        ...               ...   \n",
              "26702                     0.0                        1.0               0.0   \n",
              "26703                     0.0                        0.0               0.0   \n",
              "26704                     1.0                        0.0               1.0   \n",
              "26705                     0.0                        0.0               1.0   \n",
              "26706                     0.0                        0.0               0.0   \n",
              "\n",
              "       ...  qualification      race  sex  income_level  marital_status  \\\n",
              "0      ...           0.25  1.000000  0.0      0.666667             1.0   \n",
              "1      ...           0.00  1.000000  1.0      0.666667             1.0   \n",
              "2      ...           0.50  1.000000  1.0      0.000000             1.0   \n",
              "3      ...           0.00  1.000000  0.0      0.666667             1.0   \n",
              "4      ...           1.00  1.000000  0.0      0.000000             0.0   \n",
              "...    ...            ...       ...  ...           ...             ...   \n",
              "26702  ...           1.00  1.000000  0.0      0.000000             1.0   \n",
              "26703  ...           0.50  1.000000  1.0      0.000000             1.0   \n",
              "26704  ...           1.00  1.000000  0.0      1.000000             1.0   \n",
              "26705  ...           1.00  0.333333  0.0      0.000000             0.0   \n",
              "26706  ...           1.00  1.000000  1.0      0.000000             0.0   \n",
              "\n",
              "       housing_status  employment  census_msa  no_of_adults  no_of_children  \n",
              "0                 0.5    0.666667         1.0      0.000000             0.0  \n",
              "1                 1.0    0.000000         0.0      0.000000             0.0  \n",
              "2                 0.5    0.000000         0.0      0.666667             0.0  \n",
              "3                 1.0    0.666667         0.5      0.000000             0.0  \n",
              "4                 0.5    0.000000         0.0      0.333333             0.0  \n",
              "...               ...         ...         ...           ...             ...  \n",
              "26702             0.5    0.666667         1.0      0.000000             0.0  \n",
              "26703             1.0    0.000000         0.5      0.333333             0.0  \n",
              "26704             0.5    0.333333         0.0      0.000000             0.0  \n",
              "26705             1.0    0.000000         1.0      0.333333             0.0  \n",
              "26706             0.5    0.666667         0.5      0.333333             0.0  \n",
              "\n",
              "[26707 rows x 33 columns]"
            ],
            "text/html": [
              "\n",
              "  <div id=\"df-4bd9d708-c92c-4c3f-b624-f4242ee030e8\">\n",
              "    <div class=\"colab-df-container\">\n",
              "      <div>\n",
              "<style scoped>\n",
              "    .dataframe tbody tr th:only-of-type {\n",
              "        vertical-align: middle;\n",
              "    }\n",
              "\n",
              "    .dataframe tbody tr th {\n",
              "        vertical-align: top;\n",
              "    }\n",
              "\n",
              "    .dataframe thead th {\n",
              "        text-align: right;\n",
              "    }\n",
              "</style>\n",
              "<table border=\"1\" class=\"dataframe\">\n",
              "  <thead>\n",
              "    <tr style=\"text-align: right;\">\n",
              "      <th></th>\n",
              "      <th>unique_id</th>\n",
              "      <th>h1n1_worry</th>\n",
              "      <th>h1n1_awareness</th>\n",
              "      <th>antiviral_medication</th>\n",
              "      <th>contact_avoidance</th>\n",
              "      <th>bought_face_mask</th>\n",
              "      <th>wash_hands_frequently</th>\n",
              "      <th>avoid_large_gatherings</th>\n",
              "      <th>reduced_outside_home_cont</th>\n",
              "      <th>avoid_touch_face</th>\n",
              "      <th>...</th>\n",
              "      <th>qualification</th>\n",
              "      <th>race</th>\n",
              "      <th>sex</th>\n",
              "      <th>income_level</th>\n",
              "      <th>marital_status</th>\n",
              "      <th>housing_status</th>\n",
              "      <th>employment</th>\n",
              "      <th>census_msa</th>\n",
              "      <th>no_of_adults</th>\n",
              "      <th>no_of_children</th>\n",
              "    </tr>\n",
              "  </thead>\n",
              "  <tbody>\n",
              "    <tr>\n",
              "      <th>0</th>\n",
              "      <td>0.000000</td>\n",
              "      <td>0.333333</td>\n",
              "      <td>0.0</td>\n",
              "      <td>0.0</td>\n",
              "      <td>0.0</td>\n",
              "      <td>0.0</td>\n",
              "      <td>0.0</td>\n",
              "      <td>0.0</td>\n",
              "      <td>1.0</td>\n",
              "      <td>1.0</td>\n",
              "      <td>...</td>\n",
              "      <td>0.25</td>\n",
              "      <td>1.000000</td>\n",
              "      <td>0.0</td>\n",
              "      <td>0.666667</td>\n",
              "      <td>1.0</td>\n",
              "      <td>0.5</td>\n",
              "      <td>0.666667</td>\n",
              "      <td>1.0</td>\n",
              "      <td>0.000000</td>\n",
              "      <td>0.0</td>\n",
              "    </tr>\n",
              "    <tr>\n",
              "      <th>1</th>\n",
              "      <td>0.000037</td>\n",
              "      <td>1.000000</td>\n",
              "      <td>1.0</td>\n",
              "      <td>0.0</td>\n",
              "      <td>1.0</td>\n",
              "      <td>0.0</td>\n",
              "      <td>1.0</td>\n",
              "      <td>0.0</td>\n",
              "      <td>1.0</td>\n",
              "      <td>1.0</td>\n",
              "      <td>...</td>\n",
              "      <td>0.00</td>\n",
              "      <td>1.000000</td>\n",
              "      <td>1.0</td>\n",
              "      <td>0.666667</td>\n",
              "      <td>1.0</td>\n",
              "      <td>1.0</td>\n",
              "      <td>0.000000</td>\n",
              "      <td>0.0</td>\n",
              "      <td>0.000000</td>\n",
              "      <td>0.0</td>\n",
              "    </tr>\n",
              "    <tr>\n",
              "      <th>2</th>\n",
              "      <td>0.000075</td>\n",
              "      <td>0.333333</td>\n",
              "      <td>0.5</td>\n",
              "      <td>0.0</td>\n",
              "      <td>1.0</td>\n",
              "      <td>0.0</td>\n",
              "      <td>0.0</td>\n",
              "      <td>0.0</td>\n",
              "      <td>0.0</td>\n",
              "      <td>0.0</td>\n",
              "      <td>...</td>\n",
              "      <td>0.50</td>\n",
              "      <td>1.000000</td>\n",
              "      <td>1.0</td>\n",
              "      <td>0.000000</td>\n",
              "      <td>1.0</td>\n",
              "      <td>0.5</td>\n",
              "      <td>0.000000</td>\n",
              "      <td>0.0</td>\n",
              "      <td>0.666667</td>\n",
              "      <td>0.0</td>\n",
              "    </tr>\n",
              "    <tr>\n",
              "      <th>3</th>\n",
              "      <td>0.000112</td>\n",
              "      <td>0.333333</td>\n",
              "      <td>0.5</td>\n",
              "      <td>0.0</td>\n",
              "      <td>1.0</td>\n",
              "      <td>0.0</td>\n",
              "      <td>1.0</td>\n",
              "      <td>1.0</td>\n",
              "      <td>0.0</td>\n",
              "      <td>0.0</td>\n",
              "      <td>...</td>\n",
              "      <td>0.00</td>\n",
              "      <td>1.000000</td>\n",
              "      <td>0.0</td>\n",
              "      <td>0.666667</td>\n",
              "      <td>1.0</td>\n",
              "      <td>1.0</td>\n",
              "      <td>0.666667</td>\n",
              "      <td>0.5</td>\n",
              "      <td>0.000000</td>\n",
              "      <td>0.0</td>\n",
              "    </tr>\n",
              "    <tr>\n",
              "      <th>4</th>\n",
              "      <td>0.000150</td>\n",
              "      <td>0.666667</td>\n",
              "      <td>0.5</td>\n",
              "      <td>0.0</td>\n",
              "      <td>1.0</td>\n",
              "      <td>0.0</td>\n",
              "      <td>1.0</td>\n",
              "      <td>1.0</td>\n",
              "      <td>0.0</td>\n",
              "      <td>1.0</td>\n",
              "      <td>...</td>\n",
              "      <td>1.00</td>\n",
              "      <td>1.000000</td>\n",
              "      <td>0.0</td>\n",
              "      <td>0.000000</td>\n",
              "      <td>0.0</td>\n",
              "      <td>0.5</td>\n",
              "      <td>0.000000</td>\n",
              "      <td>0.0</td>\n",
              "      <td>0.333333</td>\n",
              "      <td>0.0</td>\n",
              "    </tr>\n",
              "    <tr>\n",
              "      <th>...</th>\n",
              "      <td>...</td>\n",
              "      <td>...</td>\n",
              "      <td>...</td>\n",
              "      <td>...</td>\n",
              "      <td>...</td>\n",
              "      <td>...</td>\n",
              "      <td>...</td>\n",
              "      <td>...</td>\n",
              "      <td>...</td>\n",
              "      <td>...</td>\n",
              "      <td>...</td>\n",
              "      <td>...</td>\n",
              "      <td>...</td>\n",
              "      <td>...</td>\n",
              "      <td>...</td>\n",
              "      <td>...</td>\n",
              "      <td>...</td>\n",
              "      <td>...</td>\n",
              "      <td>...</td>\n",
              "      <td>...</td>\n",
              "      <td>...</td>\n",
              "    </tr>\n",
              "    <tr>\n",
              "      <th>26702</th>\n",
              "      <td>0.999850</td>\n",
              "      <td>0.666667</td>\n",
              "      <td>0.0</td>\n",
              "      <td>0.0</td>\n",
              "      <td>1.0</td>\n",
              "      <td>0.0</td>\n",
              "      <td>0.0</td>\n",
              "      <td>0.0</td>\n",
              "      <td>1.0</td>\n",
              "      <td>0.0</td>\n",
              "      <td>...</td>\n",
              "      <td>1.00</td>\n",
              "      <td>1.000000</td>\n",
              "      <td>0.0</td>\n",
              "      <td>0.000000</td>\n",
              "      <td>1.0</td>\n",
              "      <td>0.5</td>\n",
              "      <td>0.666667</td>\n",
              "      <td>1.0</td>\n",
              "      <td>0.000000</td>\n",
              "      <td>0.0</td>\n",
              "    </tr>\n",
              "    <tr>\n",
              "      <th>26703</th>\n",
              "      <td>0.999888</td>\n",
              "      <td>0.333333</td>\n",
              "      <td>1.0</td>\n",
              "      <td>0.0</td>\n",
              "      <td>1.0</td>\n",
              "      <td>0.0</td>\n",
              "      <td>1.0</td>\n",
              "      <td>0.0</td>\n",
              "      <td>0.0</td>\n",
              "      <td>0.0</td>\n",
              "      <td>...</td>\n",
              "      <td>0.50</td>\n",
              "      <td>1.000000</td>\n",
              "      <td>1.0</td>\n",
              "      <td>0.000000</td>\n",
              "      <td>1.0</td>\n",
              "      <td>1.0</td>\n",
              "      <td>0.000000</td>\n",
              "      <td>0.5</td>\n",
              "      <td>0.333333</td>\n",
              "      <td>0.0</td>\n",
              "    </tr>\n",
              "    <tr>\n",
              "      <th>26704</th>\n",
              "      <td>0.999925</td>\n",
              "      <td>0.666667</td>\n",
              "      <td>1.0</td>\n",
              "      <td>0.0</td>\n",
              "      <td>1.0</td>\n",
              "      <td>1.0</td>\n",
              "      <td>1.0</td>\n",
              "      <td>1.0</td>\n",
              "      <td>0.0</td>\n",
              "      <td>1.0</td>\n",
              "      <td>...</td>\n",
              "      <td>1.00</td>\n",
              "      <td>1.000000</td>\n",
              "      <td>0.0</td>\n",
              "      <td>1.000000</td>\n",
              "      <td>1.0</td>\n",
              "      <td>0.5</td>\n",
              "      <td>0.333333</td>\n",
              "      <td>0.0</td>\n",
              "      <td>0.000000</td>\n",
              "      <td>0.0</td>\n",
              "    </tr>\n",
              "    <tr>\n",
              "      <th>26705</th>\n",
              "      <td>0.999963</td>\n",
              "      <td>0.333333</td>\n",
              "      <td>0.5</td>\n",
              "      <td>0.0</td>\n",
              "      <td>0.0</td>\n",
              "      <td>0.0</td>\n",
              "      <td>0.0</td>\n",
              "      <td>0.0</td>\n",
              "      <td>0.0</td>\n",
              "      <td>1.0</td>\n",
              "      <td>...</td>\n",
              "      <td>1.00</td>\n",
              "      <td>0.333333</td>\n",
              "      <td>0.0</td>\n",
              "      <td>0.000000</td>\n",
              "      <td>0.0</td>\n",
              "      <td>1.0</td>\n",
              "      <td>0.000000</td>\n",
              "      <td>1.0</td>\n",
              "      <td>0.333333</td>\n",
              "      <td>0.0</td>\n",
              "    </tr>\n",
              "    <tr>\n",
              "      <th>26706</th>\n",
              "      <td>1.000000</td>\n",
              "      <td>0.000000</td>\n",
              "      <td>0.0</td>\n",
              "      <td>0.0</td>\n",
              "      <td>1.0</td>\n",
              "      <td>0.0</td>\n",
              "      <td>0.0</td>\n",
              "      <td>0.0</td>\n",
              "      <td>0.0</td>\n",
              "      <td>0.0</td>\n",
              "      <td>...</td>\n",
              "      <td>1.00</td>\n",
              "      <td>1.000000</td>\n",
              "      <td>1.0</td>\n",
              "      <td>0.000000</td>\n",
              "      <td>0.0</td>\n",
              "      <td>0.5</td>\n",
              "      <td>0.666667</td>\n",
              "      <td>0.5</td>\n",
              "      <td>0.333333</td>\n",
              "      <td>0.0</td>\n",
              "    </tr>\n",
              "  </tbody>\n",
              "</table>\n",
              "<p>26707 rows × 33 columns</p>\n",
              "</div>\n",
              "      <button class=\"colab-df-convert\" onclick=\"convertToInteractive('df-4bd9d708-c92c-4c3f-b624-f4242ee030e8')\"\n",
              "              title=\"Convert this dataframe to an interactive table.\"\n",
              "              style=\"display:none;\">\n",
              "        \n",
              "  <svg xmlns=\"http://www.w3.org/2000/svg\" height=\"24px\"viewBox=\"0 0 24 24\"\n",
              "       width=\"24px\">\n",
              "    <path d=\"M0 0h24v24H0V0z\" fill=\"none\"/>\n",
              "    <path d=\"M18.56 5.44l.94 2.06.94-2.06 2.06-.94-2.06-.94-.94-2.06-.94 2.06-2.06.94zm-11 1L8.5 8.5l.94-2.06 2.06-.94-2.06-.94L8.5 2.5l-.94 2.06-2.06.94zm10 10l.94 2.06.94-2.06 2.06-.94-2.06-.94-.94-2.06-.94 2.06-2.06.94z\"/><path d=\"M17.41 7.96l-1.37-1.37c-.4-.4-.92-.59-1.43-.59-.52 0-1.04.2-1.43.59L10.3 9.45l-7.72 7.72c-.78.78-.78 2.05 0 2.83L4 21.41c.39.39.9.59 1.41.59.51 0 1.02-.2 1.41-.59l7.78-7.78 2.81-2.81c.8-.78.8-2.07 0-2.86zM5.41 20L4 18.59l7.72-7.72 1.47 1.35L5.41 20z\"/>\n",
              "  </svg>\n",
              "      </button>\n",
              "      \n",
              "  <style>\n",
              "    .colab-df-container {\n",
              "      display:flex;\n",
              "      flex-wrap:wrap;\n",
              "      gap: 12px;\n",
              "    }\n",
              "\n",
              "    .colab-df-convert {\n",
              "      background-color: #E8F0FE;\n",
              "      border: none;\n",
              "      border-radius: 50%;\n",
              "      cursor: pointer;\n",
              "      display: none;\n",
              "      fill: #1967D2;\n",
              "      height: 32px;\n",
              "      padding: 0 0 0 0;\n",
              "      width: 32px;\n",
              "    }\n",
              "\n",
              "    .colab-df-convert:hover {\n",
              "      background-color: #E2EBFA;\n",
              "      box-shadow: 0px 1px 2px rgba(60, 64, 67, 0.3), 0px 1px 3px 1px rgba(60, 64, 67, 0.15);\n",
              "      fill: #174EA6;\n",
              "    }\n",
              "\n",
              "    [theme=dark] .colab-df-convert {\n",
              "      background-color: #3B4455;\n",
              "      fill: #D2E3FC;\n",
              "    }\n",
              "\n",
              "    [theme=dark] .colab-df-convert:hover {\n",
              "      background-color: #434B5C;\n",
              "      box-shadow: 0px 1px 3px 1px rgba(0, 0, 0, 0.15);\n",
              "      filter: drop-shadow(0px 1px 2px rgba(0, 0, 0, 0.3));\n",
              "      fill: #FFFFFF;\n",
              "    }\n",
              "  </style>\n",
              "\n",
              "      <script>\n",
              "        const buttonEl =\n",
              "          document.querySelector('#df-4bd9d708-c92c-4c3f-b624-f4242ee030e8 button.colab-df-convert');\n",
              "        buttonEl.style.display =\n",
              "          google.colab.kernel.accessAllowed ? 'block' : 'none';\n",
              "\n",
              "        async function convertToInteractive(key) {\n",
              "          const element = document.querySelector('#df-4bd9d708-c92c-4c3f-b624-f4242ee030e8');\n",
              "          const dataTable =\n",
              "            await google.colab.kernel.invokeFunction('convertToInteractive',\n",
              "                                                     [key], {});\n",
              "          if (!dataTable) return;\n",
              "\n",
              "          const docLinkHtml = 'Like what you see? Visit the ' +\n",
              "            '<a target=\"_blank\" href=https://colab.research.google.com/notebooks/data_table.ipynb>data table notebook</a>'\n",
              "            + ' to learn more about interactive tables.';\n",
              "          element.innerHTML = '';\n",
              "          dataTable['output_type'] = 'display_data';\n",
              "          await google.colab.output.renderOutput(dataTable, element);\n",
              "          const docLink = document.createElement('div');\n",
              "          docLink.innerHTML = docLinkHtml;\n",
              "          element.appendChild(docLink);\n",
              "        }\n",
              "      </script>\n",
              "    </div>\n",
              "  </div>\n",
              "  "
            ]
          },
          "metadata": {},
          "execution_count": 148
        }
      ],
      "source": [
        "x"
      ]
    },
    {
      "cell_type": "code",
      "execution_count": 149,
      "metadata": {
        "colab": {
          "base_uri": "https://localhost:8080/",
          "height": 424
        },
        "id": "WeodgGAhCFuC",
        "outputId": "9f268eec-cac1-4210-b848-bd0fab364749"
      },
      "outputs": [
        {
          "output_type": "execute_result",
          "data": {
            "text/plain": [
              "       h1n1_vaccine\n",
              "0                 0\n",
              "1                 0\n",
              "2                 0\n",
              "3                 0\n",
              "4                 0\n",
              "...             ...\n",
              "26702             0\n",
              "26703             0\n",
              "26704             0\n",
              "26705             0\n",
              "26706             0\n",
              "\n",
              "[26707 rows x 1 columns]"
            ],
            "text/html": [
              "\n",
              "  <div id=\"df-b6536ad5-ed88-42a7-b84b-28e39f000204\">\n",
              "    <div class=\"colab-df-container\">\n",
              "      <div>\n",
              "<style scoped>\n",
              "    .dataframe tbody tr th:only-of-type {\n",
              "        vertical-align: middle;\n",
              "    }\n",
              "\n",
              "    .dataframe tbody tr th {\n",
              "        vertical-align: top;\n",
              "    }\n",
              "\n",
              "    .dataframe thead th {\n",
              "        text-align: right;\n",
              "    }\n",
              "</style>\n",
              "<table border=\"1\" class=\"dataframe\">\n",
              "  <thead>\n",
              "    <tr style=\"text-align: right;\">\n",
              "      <th></th>\n",
              "      <th>h1n1_vaccine</th>\n",
              "    </tr>\n",
              "  </thead>\n",
              "  <tbody>\n",
              "    <tr>\n",
              "      <th>0</th>\n",
              "      <td>0</td>\n",
              "    </tr>\n",
              "    <tr>\n",
              "      <th>1</th>\n",
              "      <td>0</td>\n",
              "    </tr>\n",
              "    <tr>\n",
              "      <th>2</th>\n",
              "      <td>0</td>\n",
              "    </tr>\n",
              "    <tr>\n",
              "      <th>3</th>\n",
              "      <td>0</td>\n",
              "    </tr>\n",
              "    <tr>\n",
              "      <th>4</th>\n",
              "      <td>0</td>\n",
              "    </tr>\n",
              "    <tr>\n",
              "      <th>...</th>\n",
              "      <td>...</td>\n",
              "    </tr>\n",
              "    <tr>\n",
              "      <th>26702</th>\n",
              "      <td>0</td>\n",
              "    </tr>\n",
              "    <tr>\n",
              "      <th>26703</th>\n",
              "      <td>0</td>\n",
              "    </tr>\n",
              "    <tr>\n",
              "      <th>26704</th>\n",
              "      <td>0</td>\n",
              "    </tr>\n",
              "    <tr>\n",
              "      <th>26705</th>\n",
              "      <td>0</td>\n",
              "    </tr>\n",
              "    <tr>\n",
              "      <th>26706</th>\n",
              "      <td>0</td>\n",
              "    </tr>\n",
              "  </tbody>\n",
              "</table>\n",
              "<p>26707 rows × 1 columns</p>\n",
              "</div>\n",
              "      <button class=\"colab-df-convert\" onclick=\"convertToInteractive('df-b6536ad5-ed88-42a7-b84b-28e39f000204')\"\n",
              "              title=\"Convert this dataframe to an interactive table.\"\n",
              "              style=\"display:none;\">\n",
              "        \n",
              "  <svg xmlns=\"http://www.w3.org/2000/svg\" height=\"24px\"viewBox=\"0 0 24 24\"\n",
              "       width=\"24px\">\n",
              "    <path d=\"M0 0h24v24H0V0z\" fill=\"none\"/>\n",
              "    <path d=\"M18.56 5.44l.94 2.06.94-2.06 2.06-.94-2.06-.94-.94-2.06-.94 2.06-2.06.94zm-11 1L8.5 8.5l.94-2.06 2.06-.94-2.06-.94L8.5 2.5l-.94 2.06-2.06.94zm10 10l.94 2.06.94-2.06 2.06-.94-2.06-.94-.94-2.06-.94 2.06-2.06.94z\"/><path d=\"M17.41 7.96l-1.37-1.37c-.4-.4-.92-.59-1.43-.59-.52 0-1.04.2-1.43.59L10.3 9.45l-7.72 7.72c-.78.78-.78 2.05 0 2.83L4 21.41c.39.39.9.59 1.41.59.51 0 1.02-.2 1.41-.59l7.78-7.78 2.81-2.81c.8-.78.8-2.07 0-2.86zM5.41 20L4 18.59l7.72-7.72 1.47 1.35L5.41 20z\"/>\n",
              "  </svg>\n",
              "      </button>\n",
              "      \n",
              "  <style>\n",
              "    .colab-df-container {\n",
              "      display:flex;\n",
              "      flex-wrap:wrap;\n",
              "      gap: 12px;\n",
              "    }\n",
              "\n",
              "    .colab-df-convert {\n",
              "      background-color: #E8F0FE;\n",
              "      border: none;\n",
              "      border-radius: 50%;\n",
              "      cursor: pointer;\n",
              "      display: none;\n",
              "      fill: #1967D2;\n",
              "      height: 32px;\n",
              "      padding: 0 0 0 0;\n",
              "      width: 32px;\n",
              "    }\n",
              "\n",
              "    .colab-df-convert:hover {\n",
              "      background-color: #E2EBFA;\n",
              "      box-shadow: 0px 1px 2px rgba(60, 64, 67, 0.3), 0px 1px 3px 1px rgba(60, 64, 67, 0.15);\n",
              "      fill: #174EA6;\n",
              "    }\n",
              "\n",
              "    [theme=dark] .colab-df-convert {\n",
              "      background-color: #3B4455;\n",
              "      fill: #D2E3FC;\n",
              "    }\n",
              "\n",
              "    [theme=dark] .colab-df-convert:hover {\n",
              "      background-color: #434B5C;\n",
              "      box-shadow: 0px 1px 3px 1px rgba(0, 0, 0, 0.15);\n",
              "      filter: drop-shadow(0px 1px 2px rgba(0, 0, 0, 0.3));\n",
              "      fill: #FFFFFF;\n",
              "    }\n",
              "  </style>\n",
              "\n",
              "      <script>\n",
              "        const buttonEl =\n",
              "          document.querySelector('#df-b6536ad5-ed88-42a7-b84b-28e39f000204 button.colab-df-convert');\n",
              "        buttonEl.style.display =\n",
              "          google.colab.kernel.accessAllowed ? 'block' : 'none';\n",
              "\n",
              "        async function convertToInteractive(key) {\n",
              "          const element = document.querySelector('#df-b6536ad5-ed88-42a7-b84b-28e39f000204');\n",
              "          const dataTable =\n",
              "            await google.colab.kernel.invokeFunction('convertToInteractive',\n",
              "                                                     [key], {});\n",
              "          if (!dataTable) return;\n",
              "\n",
              "          const docLinkHtml = 'Like what you see? Visit the ' +\n",
              "            '<a target=\"_blank\" href=https://colab.research.google.com/notebooks/data_table.ipynb>data table notebook</a>'\n",
              "            + ' to learn more about interactive tables.';\n",
              "          element.innerHTML = '';\n",
              "          dataTable['output_type'] = 'display_data';\n",
              "          await google.colab.output.renderOutput(dataTable, element);\n",
              "          const docLink = document.createElement('div');\n",
              "          docLink.innerHTML = docLinkHtml;\n",
              "          element.appendChild(docLink);\n",
              "        }\n",
              "      </script>\n",
              "    </div>\n",
              "  </div>\n",
              "  "
            ]
          },
          "metadata": {},
          "execution_count": 149
        }
      ],
      "source": [
        "y"
      ]
    },
    {
      "cell_type": "code",
      "execution_count": 150,
      "metadata": {
        "id": "u3yOgt9wCFuD"
      },
      "outputs": [],
      "source": [
        "#Splitting the data into training and testing data"
      ]
    },
    {
      "cell_type": "code",
      "execution_count": 151,
      "metadata": {
        "id": "Q-5AGD2eCFuE"
      },
      "outputs": [],
      "source": [
        "x_train, x_test, y_train, y_test = train_test_split(x,y,test_size=0.3, random_state=100)"
      ]
    },
    {
      "cell_type": "code",
      "execution_count": 152,
      "metadata": {
        "id": "iViIim5jCFuF"
      },
      "outputs": [],
      "source": [
        "st_x = StandardScaler()\n",
        "x_train = st_x.fit_transform(x_train)\n",
        "x_test =st_x.transform(x_test)"
      ]
    },
    {
      "cell_type": "code",
      "execution_count": 153,
      "metadata": {
        "colab": {
          "base_uri": "https://localhost:8080/"
        },
        "id": "FRW0VmOeCFuG",
        "outputId": "607ffff7-aa67-40e8-e43d-76504823490d"
      },
      "outputs": [
        {
          "output_type": "execute_result",
          "data": {
            "text/plain": [
              "LogisticRegression(random_state=0)"
            ]
          },
          "metadata": {},
          "execution_count": 153
        }
      ],
      "source": [
        "classifier = LogisticRegression(random_state = 0)\n",
        "classifier.fit(x_train,y_train)"
      ]
    },
    {
      "cell_type": "code",
      "execution_count": 154,
      "metadata": {
        "id": "GjHC_adcCFuH"
      },
      "outputs": [],
      "source": [
        "y_pred =classifier.predict(x_test)"
      ]
    },
    {
      "cell_type": "code",
      "execution_count": 155,
      "metadata": {
        "colab": {
          "base_uri": "https://localhost:8080/"
        },
        "id": "jYJMW8h_CFuI",
        "outputId": "1f916571-b102-4a74-8d9a-b1e26b2bf640"
      },
      "outputs": [
        {
          "output_type": "stream",
          "name": "stdout",
          "text": [
            "0.8337434470953247\n"
          ]
        }
      ],
      "source": [
        "print(classifier.score(x_train,y_train))"
      ]
    },
    {
      "cell_type": "code",
      "execution_count": 156,
      "metadata": {
        "colab": {
          "base_uri": "https://localhost:8080/"
        },
        "id": "hnNkInUgCFuJ",
        "outputId": "153e1938-fc5c-46d3-cb82-0a8dbd0a13e7"
      },
      "outputs": [
        {
          "output_type": "stream",
          "name": "stdout",
          "text": [
            "1.0\n"
          ]
        }
      ],
      "source": [
        "print(classifier.score(x_test,y_pred))"
      ]
    },
    {
      "cell_type": "markdown",
      "metadata": {
        "id": "yk73z6EDCFuK"
      },
      "source": [
        "Confusion Matrix"
      ]
    },
    {
      "cell_type": "code",
      "execution_count": 157,
      "metadata": {
        "colab": {
          "base_uri": "https://localhost:8080/"
        },
        "id": "9UzJdF37CFuK",
        "outputId": "dbfcda92-5501-4632-aad7-d9f61c5722ef"
      },
      "outputs": [
        {
          "output_type": "stream",
          "name": "stdout",
          "text": [
            "[[5991  346]\n",
            " [ 959  717]]\n"
          ]
        }
      ],
      "source": [
        "from sklearn.metrics import confusion_matrix\n",
        "confusion_matrix = confusion_matrix(y_test, y_pred)\n",
        "print(confusion_matrix)"
      ]
    },
    {
      "cell_type": "code",
      "execution_count": 158,
      "metadata": {
        "colab": {
          "base_uri": "https://localhost:8080/"
        },
        "id": "f9cpuRTCCFuM",
        "outputId": "a039b32e-b1ab-4853-824f-53ad04a8f76d"
      },
      "outputs": [
        {
          "output_type": "execute_result",
          "data": {
            "text/plain": [
              "8013"
            ]
          },
          "metadata": {},
          "execution_count": 158
        }
      ],
      "source": [
        "total = 5991+346+959+717\n",
        "total"
      ]
    },
    {
      "cell_type": "code",
      "execution_count": 159,
      "metadata": {
        "colab": {
          "base_uri": "https://localhost:8080/"
        },
        "id": "UjHlPevRCFuN",
        "outputId": "e987d281-63da-4506-cc64-ae9213db67e0"
      },
      "outputs": [
        {
          "output_type": "execute_result",
          "data": {
            "text/plain": [
              "83.71396480718832"
            ]
          },
          "metadata": {},
          "execution_count": 159
        }
      ],
      "source": [
        "accuracy = (5991+717)/total*100\n",
        "accuracy"
      ]
    },
    {
      "cell_type": "code",
      "execution_count": 160,
      "metadata": {
        "colab": {
          "base_uri": "https://localhost:8080/"
        },
        "id": "tI5in1XXCFuO",
        "outputId": "21234bf7-bf7c-4619-9c0f-9dcd2919e009"
      },
      "outputs": [
        {
          "output_type": "execute_result",
          "data": {
            "text/plain": [
              "16.28603519281168"
            ]
          },
          "metadata": {},
          "execution_count": 160
        }
      ],
      "source": [
        "Misclassification = (346+959)/total *100\n",
        "Misclassification"
      ]
    },
    {
      "cell_type": "code",
      "execution_count": 160,
      "metadata": {
        "id": "QeW6B5SsCFuP"
      },
      "outputs": [],
      "source": []
    }
  ],
  "metadata": {
    "kernelspec": {
      "display_name": "Python 3",
      "language": "python",
      "name": "python3"
    },
    "language_info": {
      "codemirror_mode": {
        "name": "ipython",
        "version": 3
      },
      "file_extension": ".py",
      "mimetype": "text/x-python",
      "name": "python",
      "nbconvert_exporter": "python",
      "pygments_lexer": "ipython3",
      "version": "3.7.6"
    },
    "colab": {
      "provenance": [],
      "collapsed_sections": []
    }
  },
  "nbformat": 4,
  "nbformat_minor": 0
}